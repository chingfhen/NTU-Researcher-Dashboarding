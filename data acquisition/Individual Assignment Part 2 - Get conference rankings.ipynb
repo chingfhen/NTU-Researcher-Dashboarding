{
 "cells": [
  {
   "cell_type": "code",
   "execution_count": 116,
   "id": "0b44c825",
   "metadata": {},
   "outputs": [],
   "source": [
    "import json\n",
    "import os\n",
    "import pandas as pd\n",
    "import requests\n",
    "from bs4 import BeautifulSoup"
   ]
  },
  {
   "cell_type": "markdown",
   "id": "c4633bf9",
   "metadata": {},
   "source": [
    "### get conference rankings\n",
    "- from https://www.resurchify.com/conference-ranking"
   ]
  },
  {
   "cell_type": "code",
   "execution_count": 108,
   "id": "3a05ec69",
   "metadata": {},
   "outputs": [],
   "source": [
    "def scrape_conference_rankings():\n",
    "    # get soup\n",
    "    r = requests.get(\"https://www.resurchify.com/conference-ranking\")\n",
    "    assert r.status_code == 200\n",
    "    soup  = BeautifulSoup(r.text, \"html.parser\")\n",
    "    # parse\n",
    "    all_conference_info = []\n",
    "    all_conferences = soup.find_all(\"tr\", {\"class\":\"w3-hover-sand w3-bordered\"})\n",
    "    for conference_info in all_conferences:\n",
    "        all_conference_info.append([span.text for span in conference_info.find_all(\"span\")])\n",
    "    return pd.DataFrame(all_conference_info, columns = [\"publication\", \"acronym\", \"rank\"])"
   ]
  },
  {
   "cell_type": "code",
   "execution_count": 109,
   "id": "0b64bc94",
   "metadata": {},
   "outputs": [],
   "source": [
    "all_conference_info = scrape_conference_rankings()"
   ]
  },
  {
   "cell_type": "code",
   "execution_count": 118,
   "id": "54742d15",
   "metadata": {},
   "outputs": [
    {
     "data": {
      "text/html": [
       "<div>\n",
       "<style scoped>\n",
       "    .dataframe tbody tr th:only-of-type {\n",
       "        vertical-align: middle;\n",
       "    }\n",
       "\n",
       "    .dataframe tbody tr th {\n",
       "        vertical-align: top;\n",
       "    }\n",
       "\n",
       "    .dataframe thead th {\n",
       "        text-align: right;\n",
       "    }\n",
       "</style>\n",
       "<table border=\"1\" class=\"dataframe\">\n",
       "  <thead>\n",
       "    <tr style=\"text-align: right;\">\n",
       "      <th></th>\n",
       "      <th>publication</th>\n",
       "      <th>acronym</th>\n",
       "      <th>rank</th>\n",
       "    </tr>\n",
       "  </thead>\n",
       "  <tbody>\n",
       "    <tr>\n",
       "      <th>0</th>\n",
       "      <td>ACIS Conference on Software Engineering Resear...</td>\n",
       "      <td>SERA</td>\n",
       "      <td>C</td>\n",
       "    </tr>\n",
       "    <tr>\n",
       "      <th>1</th>\n",
       "      <td>ACM Conference on Applications, Technologies, ...</td>\n",
       "      <td>SIGCOMM</td>\n",
       "      <td>A*</td>\n",
       "    </tr>\n",
       "    <tr>\n",
       "      <th>2</th>\n",
       "      <td>ACM Conference on Computer and Communications ...</td>\n",
       "      <td>CCS</td>\n",
       "      <td>A*</td>\n",
       "    </tr>\n",
       "    <tr>\n",
       "      <th>3</th>\n",
       "      <td>ACM Conference on Computer Supported Cooperati...</td>\n",
       "      <td>CSCW</td>\n",
       "      <td>A</td>\n",
       "    </tr>\n",
       "    <tr>\n",
       "      <th>4</th>\n",
       "      <td>ACM Conference on Economics and Computation</td>\n",
       "      <td>EC</td>\n",
       "      <td>A*</td>\n",
       "    </tr>\n",
       "    <tr>\n",
       "      <th>5</th>\n",
       "      <td>ACM Conference on Embedded Networked Sensor Sy...</td>\n",
       "      <td>SENSYS</td>\n",
       "      <td>A*</td>\n",
       "    </tr>\n",
       "    <tr>\n",
       "      <th>6</th>\n",
       "      <td>ACM Conference on Embedded Software</td>\n",
       "      <td>EMSOFT</td>\n",
       "      <td>A</td>\n",
       "    </tr>\n",
       "    <tr>\n",
       "      <th>7</th>\n",
       "      <td>ACM Conference on Object Oriented Programming ...</td>\n",
       "      <td>OOPSLA</td>\n",
       "      <td>A*</td>\n",
       "    </tr>\n",
       "    <tr>\n",
       "      <th>8</th>\n",
       "      <td>ACM Information Technology Education</td>\n",
       "      <td>SIGITE</td>\n",
       "      <td>National: USA</td>\n",
       "    </tr>\n",
       "    <tr>\n",
       "      <th>9</th>\n",
       "      <td>ACM International Conference on Advances in Co...</td>\n",
       "      <td>ACE</td>\n",
       "      <td>B</td>\n",
       "    </tr>\n",
       "  </tbody>\n",
       "</table>\n",
       "</div>"
      ],
      "text/plain": [
       "                                         publication  acronym           rank\n",
       "0  ACIS Conference on Software Engineering Resear...     SERA              C\n",
       "1  ACM Conference on Applications, Technologies, ...  SIGCOMM             A*\n",
       "2  ACM Conference on Computer and Communications ...      CCS             A*\n",
       "3  ACM Conference on Computer Supported Cooperati...     CSCW              A\n",
       "4        ACM Conference on Economics and Computation       EC             A*\n",
       "5  ACM Conference on Embedded Networked Sensor Sy...   SENSYS             A*\n",
       "6                ACM Conference on Embedded Software   EMSOFT              A\n",
       "7  ACM Conference on Object Oriented Programming ...   OOPSLA             A*\n",
       "8               ACM Information Technology Education   SIGITE  National: USA\n",
       "9  ACM International Conference on Advances in Co...      ACE              B"
      ]
     },
     "execution_count": 118,
     "metadata": {},
     "output_type": "execute_result"
    }
   ],
   "source": [
    "all_conference_info.head(10)"
   ]
  },
  {
   "cell_type": "markdown",
   "id": "891d6f99",
   "metadata": {},
   "source": [
    "### save"
   ]
  },
  {
   "cell_type": "code",
   "execution_count": 114,
   "id": "323669f8",
   "metadata": {},
   "outputs": [],
   "source": [
    "import pickle\n",
    "path = r\"C:\\Users\\tanch\\Documents\\NTU\\NTU Year 4\\Semester 1\\CZ4125 - Developing Data Products\\Assignments\\Individual Assignment\\Part 2\\data\\conference_ranks.pkl\"\n",
    "all_conference_info.to_pickle(path)"
   ]
  },
  {
   "cell_type": "code",
   "execution_count": null,
   "id": "6c7998a7",
   "metadata": {},
   "outputs": [],
   "source": []
  },
  {
   "cell_type": "code",
   "execution_count": null,
   "id": "77717935",
   "metadata": {},
   "outputs": [],
   "source": [
    "data_dir = r\"C:\\Users\\tanch\\Documents\\NTU\\NTU Year 4\\Semester 1\\CZ4125 - Developing Data Products\\Assignments\\Individual Assignment\\Part 2\\data\\google scholar profiles\"\n",
    "os.chdir(data_dir)\n",
    "for filename in os.listdir():\n",
    "    with open(filename, \"r\") as f:\n",
    "        data = json.load(f)\n",
    "def get_publication_acronym(string):\n",
    "    return re.findall(r'\\(.*?\\)', string)[0][1:-1]\n",
    "get_publication_acronym('AAAI Conference on Artificial Intelligence (AAAI), 2016')"
   ]
  },
  {
   "cell_type": "code",
   "execution_count": null,
   "id": "fc2fde04",
   "metadata": {},
   "outputs": [],
   "source": []
  },
  {
   "cell_type": "markdown",
   "id": "c1454a5c",
   "metadata": {},
   "source": [
    "### initially, i could also acquire the h index and impact scores with the following code, however, the search function in www.resurchify.com became spoiled somehow, the conferences can longer be searched"
   ]
  },
  {
   "cell_type": "code",
   "execution_count": 31,
   "id": "3a03b828",
   "metadata": {},
   "outputs": [],
   "source": [
    "import requests\n",
    "from bs4 import BeautifulSoup\n",
    "\n",
    "def get_soup(conference_name):\n",
    "    query = \"+\".join(conference_name.split())\n",
    "    url = f\"https://www.resurchify.com/find/?query={query}\"\n",
    "    r = requests.get(url)\n",
    "    assert r.status_code == 200\n",
    "    soup  = BeautifulSoup(r.text, \"html.parser\")\n",
    "    return soup"
   ]
  },
  {
   "cell_type": "code",
   "execution_count": 32,
   "id": "cf88b894",
   "metadata": {},
   "outputs": [],
   "source": [
    "def get_stats(soup, search_name):\n",
    "    try:\n",
    "        # from the conference search results find the right one \n",
    "        conference_search_results = soup.find_all(\"div\", {\"class\":\"w3-white w3-container w3-card-4 w3-hover-light-gray\"})\n",
    "        if len(conference_search_results)==0:\n",
    "            return\n",
    "        elif len(conference_search_results)==1:\n",
    "            conference_info = conference_search_results[0]\n",
    "        elif len(conference_search_results)>1:\n",
    "            for conference_info in conference_search_results[:5]:\n",
    "                conference_name = conference_info.find(\"h3\").text\n",
    "                if score(conference_name, search_name) == 100:\n",
    "                    break\n",
    "            else:\n",
    "                return \n",
    "\n",
    "\n",
    "        conference_impact = {}\n",
    "        for stats in conference_info.find_all(\"span\"):\n",
    "            tmp_stats = stats.text.strip().split(\":\")\n",
    "            conference_impact[tmp_stats[0]] = float(tmp_stats[1])\n",
    "        return conference_impact\n",
    "    except:\n",
    "        return \n",
    "    "
   ]
  },
  {
   "cell_type": "code",
   "execution_count": null,
   "id": "363766cd",
   "metadata": {},
   "outputs": [],
   "source": [
    "from fuzzywuzzy import fuzz\n",
    "\"\"\"\n",
    "Flexible string matching. \n",
    "For instance, the following two strings can match\n",
    "\"1. Proceedings of the IEEE Computer Society Conference on Computer Vision and Pattern Recognition\" \n",
    "\"IEEE Conference on Computer Vision and Pattern Recognition\"\n",
    "\"\"\"\n",
    "def score(s1, s2):\n",
    "    scores = [\n",
    "        fuzz.token_sort_ratio(s1, s2), \n",
    "        fuzz.token_set_ratio(s1, s2), \n",
    "        fuzz.partial_ratio(s1, s2)\n",
    "    ]\n",
    "    return max(scores)"
   ]
  },
  {
   "cell_type": "code",
   "execution_count": null,
   "id": "603d110f",
   "metadata": {},
   "outputs": [],
   "source": [
    "soup = get_soup(\"Computer Vision and Pattern Recognition\",  \"IEEE Conference on Computer Vision and Pattern Recognition\")\n",
    "stats = get_stats(soup,  \"IEEE Conference on Computer Vision and Pattern Recognition\")"
   ]
  }
 ],
 "metadata": {
  "kernelspec": {
   "display_name": "dp",
   "language": "python",
   "name": "dp"
  },
  "language_info": {
   "codemirror_mode": {
    "name": "ipython",
    "version": 3
   },
   "file_extension": ".py",
   "mimetype": "text/x-python",
   "name": "python",
   "nbconvert_exporter": "python",
   "pygments_lexer": "ipython3",
   "version": "3.9.12"
  }
 },
 "nbformat": 4,
 "nbformat_minor": 5
}
