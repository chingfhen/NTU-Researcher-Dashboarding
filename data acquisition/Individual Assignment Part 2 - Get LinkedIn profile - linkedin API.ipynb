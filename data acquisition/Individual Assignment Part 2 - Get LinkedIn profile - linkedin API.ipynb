{
 "cells": [
  {
   "cell_type": "code",
   "execution_count": 7,
   "id": "bd1a7402",
   "metadata": {},
   "outputs": [],
   "source": [
    "import os\n",
    "from tqdm import tqdm\n",
    "from linkedin_api import Linkedin\n",
    "from pandas import read_csv, isna\n",
    "import json\n",
    "# import requests\n",
    "# from bs4 import BeautifulSoup"
   ]
  },
  {
   "cell_type": "markdown",
   "id": "e6646628",
   "metadata": {},
   "source": [
    "### get scse member linkedin profiles"
   ]
  },
  {
   "cell_type": "code",
   "execution_count": 3,
   "id": "80db1d1a",
   "metadata": {},
   "outputs": [],
   "source": [
    "path = r\"C:\\Users\\tanch\\Documents\\NTU\\NTU Year 4\\Semester 1\\CZ4125 - Developing Data Products\\Assignments\\Individual Assignment\\scse_member_links.csv\"\n",
    "scse_member_profile_links = read_csv(path)"
   ]
  },
  {
   "cell_type": "code",
   "execution_count": 11,
   "id": "210707e4",
   "metadata": {},
   "outputs": [],
   "source": [
    "# scraper class\n",
    "LI = Linkedin(\"tanchingfhen@gmail.com\", \"y-En5eTTBJ9pJhG\")"
   ]
  },
  {
   "cell_type": "code",
   "execution_count": 9,
   "id": "744ffcdf",
   "metadata": {},
   "outputs": [],
   "source": [
    "def get_public_id(link):\n",
    "    if isna(link):\n",
    "        return \n",
    "    return link.split(\"/in/\")[-1].replace(\"/\",\"\")"
   ]
  },
  {
   "cell_type": "code",
   "execution_count": 16,
   "id": "0d1749e7",
   "metadata": {
    "scrolled": true
   },
   "outputs": [
    {
     "name": "stderr",
     "output_type": "stream",
     "text": [
      "100%|██████████████████████████████████████████████████████████████████████████████████| 73/73 [06:42<00:00,  5.51s/it]\n"
     ]
    }
   ],
   "source": [
    "# directory to save linkedin profiles\n",
    "data_dir = r\"C:\\Users\\tanch\\Documents\\NTU\\NTU Year 4\\Semester 1\\CZ4125 - Developing Data Products\\Assignments\\Individual Assignment\\Part 2\\data\\linkedin profiles\"\n",
    "os.chdir(data_dir)\n",
    "# for each scse member, acquire their linkedin profile by linkedinAPI\n",
    "for i in tqdm(range(len(scse_member_profile_links))):\n",
    "    name = scse_member_profile_links.loc[i,'name']\n",
    "    linkedin_link = scse_member_profile_links.loc[i,'linkedin_profile_link']\n",
    "    public_id = get_public_id(linkedin_link)\n",
    "    if public_id is None:\n",
    "        continue\n",
    "    linkedin_profile = LI.get_profile(public_id = public_id)\n",
    "    with open(f\"{name}.json\", \"w\") as f:\n",
    "        json.dump(linkedin_profile, f)\n",
    "    "
   ]
  },
  {
   "cell_type": "code",
   "execution_count": 17,
   "id": "ded4eb1e",
   "metadata": {},
   "outputs": [
    {
     "data": {
      "text/plain": [
       "{'summary': 'https://liuziwei7.github.io/',\n",
       " 'industryName': 'Software Development',\n",
       " 'lastName': 'Liu',\n",
       " 'locationName': 'Singapore',\n",
       " 'student': False,\n",
       " 'geoCountryName': 'Singapore',\n",
       " 'geoCountryUrn': 'urn:li:fs_geo:102454443',\n",
       " 'geoLocationBackfilled': False,\n",
       " 'elt': True,\n",
       " 'industryUrn': 'urn:li:fs_industry:4',\n",
       " 'firstName': 'Ziwei',\n",
       " 'entityUrn': 'urn:li:fs_profile:ACoAAAyf8z4B3M9qAY3molYJ1tWUEgf4O-JZMaU',\n",
       " 'geoLocation': {'geoUrn': 'urn:li:fs_geo:102454443'},\n",
       " 'location': {'basicLocation': {'countryCode': 'sg'}},\n",
       " 'headline': 'Assistant Professor at Nanyang Technological University',\n",
       " 'displayPictureUrl': 'https://media-exp1.licdn.com/dms/image/C5603AQFy8jZCQqXgOg/profile-displayphoto-shrink_',\n",
       " 'profile_id': 'ACoAAAyf8z4B3M9qAY3molYJ1tWUEgf4O-JZMaU',\n",
       " 'experience': [{'locationName': 'Singapore',\n",
       "   'entityUrn': 'urn:li:fs_position:(ACoAAAyf8z4B3M9qAY3molYJ1tWUEgf4O-JZMaU,1689241693)',\n",
       "   'geoLocationName': 'Singapore',\n",
       "   'geoUrn': 'urn:li:fs_geo:102454443',\n",
       "   'companyName': 'Nanyang Technological University',\n",
       "   'timePeriod': {'startDate': {'year': 2020}},\n",
       "   'company': {'employeeCountRange': {'start': 10001},\n",
       "    'industries': ['Higher Education']},\n",
       "   'title': 'Assistant Professor',\n",
       "   'region': 'urn:li:fs_region:(sg,0)',\n",
       "   'companyUrn': 'urn:li:fs_miniCompany:165091',\n",
       "   'companyLogoUrl': 'https://media-exp1.licdn.com/dms/image/C4D0BAQE9ISNDKYUaAw/company-logo_'},\n",
       "  {'locationName': 'Hong Kong',\n",
       "   'entityUrn': 'urn:li:fs_position:(ACoAAAyf8z4B3M9qAY3molYJ1tWUEgf4O-JZMaU,1468043893)',\n",
       "   'geoLocationName': 'Hong Kong',\n",
       "   'geoUrn': 'urn:li:fs_geo:103291313',\n",
       "   'companyName': 'The Chinese University of Hong Kong',\n",
       "   'timePeriod': {'endDate': {'year': 2020}, 'startDate': {'year': 2018}},\n",
       "   'company': {'employeeCountRange': {'start': 10001},\n",
       "    'industries': ['Higher Education']},\n",
       "   'title': 'Research Fellow',\n",
       "   'region': 'urn:li:fs_region:(hk,0)',\n",
       "   'companyUrn': 'urn:li:fs_miniCompany:13045',\n",
       "   'companyLogoUrl': 'https://media-exp1.licdn.com/dms/image/D560BAQG2wsFe0EyZQg/company-logo_'},\n",
       "  {'locationName': 'Berkeley, USA',\n",
       "   'entityUrn': 'urn:li:fs_position:(ACoAAAyf8z4B3M9qAY3molYJ1tWUEgf4O-JZMaU,1068270808)',\n",
       "   'geoLocationName': 'Berkeley, USA',\n",
       "   'companyName': 'University of California, Berkeley',\n",
       "   'timePeriod': {'endDate': {'year': 2018}, 'startDate': {'year': 2017}},\n",
       "   'company': {'employeeCountRange': {'start': 10001},\n",
       "    'industries': ['Higher Education']},\n",
       "   'title': 'Postdoctoral Researcher',\n",
       "   'companyUrn': 'urn:li:fs_miniCompany:2517',\n",
       "   'companyLogoUrl': 'https://media-exp1.licdn.com/dms/image/C4D0BAQGF8uB7vUoJ0Q/company-logo_'},\n",
       "  {'locationName': 'Seattle, USA',\n",
       "   'entityUrn': 'urn:li:fs_position:(ACoAAAyf8z4B3M9qAY3molYJ1tWUEgf4O-JZMaU,848521906)',\n",
       "   'geoLocationName': 'Seattle, USA',\n",
       "   'geoUrn': 'urn:li:fs_geo:90000091',\n",
       "   'companyName': 'Google',\n",
       "   'timePeriod': {'endDate': {'year': 2016}, 'startDate': {'year': 2016}},\n",
       "   'company': {'employeeCountRange': {'start': 10001},\n",
       "    'industries': ['Computer Software']},\n",
       "   'title': 'Research Intern',\n",
       "   'region': 'urn:li:fs_region:(us,91)',\n",
       "   'companyUrn': 'urn:li:fs_miniCompany:1441',\n",
       "   'companyLogoUrl': 'https://media-exp1.licdn.com/dms/image/C4D0BAQHiNSL4Or29cg/company-logo_'},\n",
       "  {'locationName': 'Beijing, China',\n",
       "   'entityUrn': 'urn:li:fs_position:(ACoAAAyf8z4B3M9qAY3molYJ1tWUEgf4O-JZMaU,425702363)',\n",
       "   'geoLocationName': 'Beijing, China',\n",
       "   'geoUrn': 'urn:li:fs_geo:103873152',\n",
       "   'companyName': 'Microsoft',\n",
       "   'timePeriod': {'endDate': {'year': 2014}, 'startDate': {'year': 2013}},\n",
       "   'company': {'employeeCountRange': {'start': 10001},\n",
       "    'industries': ['Computer Software']},\n",
       "   'title': 'Research Intern',\n",
       "   'region': 'urn:li:fs_region:(cn,8911)',\n",
       "   'companyUrn': 'urn:li:fs_miniCompany:1035',\n",
       "   'companyLogoUrl': 'https://media-exp1.licdn.com/dms/image/C560BAQE88xCsONDULQ/company-logo_'}],\n",
       " 'skills': [{'name': 'Computer Vision'},\n",
       "  {'name': 'Machine Learning'},\n",
       "  {'name': 'Pattern Recognition'},\n",
       "  {'name': 'Computer Graphics'},\n",
       "  {'name': 'Image Processing'},\n",
       "  {'name': 'Artificial Intelligence'},\n",
       "  {'name': 'Algorithms'},\n",
       "  {'name': 'Computer Science'},\n",
       "  {'name': 'Data Mining'},\n",
       "  {'name': 'Information Retrieval'},\n",
       "  {'name': 'Signal Processing'},\n",
       "  {'name': 'Matlab'}],\n",
       " 'education': [{'entityUrn': 'urn:li:fs_education:(ACoAAAyf8z4B3M9qAY3molYJ1tWUEgf4O-JZMaU,171539127)',\n",
       "   'school': {'objectUrn': 'urn:li:school:12877',\n",
       "    'entityUrn': 'urn:li:fs_miniSchool:12877',\n",
       "    'active': True,\n",
       "    'schoolName': 'The Chinese University of Hong Kong',\n",
       "    'trackingId': '8y5rNG7ETS6LcWdUDYp6bg==',\n",
       "    'logoUrl': 'https://media-exp1.licdn.com/dms/image/D560BAQG2wsFe0EyZQg/company-logo_'},\n",
       "   'timePeriod': {'endDate': {'year': 2017}, 'startDate': {'year': 2013}},\n",
       "   'degreeName': 'Doctor of Philosophy (Ph.D.)',\n",
       "   'schoolName': 'The Chinese University of Hong Kong',\n",
       "   'fieldOfStudy': 'Information Engineering',\n",
       "   'schoolUrn': 'urn:li:fs_miniSchool:12877'},\n",
       "  {'entityUrn': 'urn:li:fs_education:(ACoAAAyf8z4B3M9qAY3molYJ1tWUEgf4O-JZMaU,595464402)',\n",
       "   'school': {'objectUrn': 'urn:li:school:10808',\n",
       "    'entityUrn': 'urn:li:fs_miniSchool:10808',\n",
       "    'active': True,\n",
       "    'schoolName': 'University of Victoria',\n",
       "    'trackingId': 'Adx8TBEdSl6EGVo/CANwSg==',\n",
       "    'logoUrl': 'https://media-exp1.licdn.com/dms/image/D560BAQFrAzfUj5oVrA/company-logo_'},\n",
       "   'timePeriod': {'endDate': {'year': 2012}, 'startDate': {'year': 2012}},\n",
       "   'fieldOfStudyUrn': 'urn:li:fs_fieldOfStudy:100189',\n",
       "   'degreeName': 'Visiting Student',\n",
       "   'schoolName': 'University of Victoria',\n",
       "   'fieldOfStudy': 'Computer Science',\n",
       "   'schoolUrn': 'urn:li:fs_miniSchool:10808'},\n",
       "  {'entityUrn': 'urn:li:fs_education:(ACoAAAyf8z4B3M9qAY3molYJ1tWUEgf4O-JZMaU,130668170)',\n",
       "   'school': {'objectUrn': 'urn:li:school:11182',\n",
       "    'entityUrn': 'urn:li:fs_miniSchool:11182',\n",
       "    'active': True,\n",
       "    'schoolName': 'Huazhong University of Science and Technology',\n",
       "    'trackingId': 'IlrhtMCySAatjbmjdQ1E5A==',\n",
       "    'logoUrl': 'https://media-exp1.licdn.com/dms/image/C4D0BAQE9XxomSh8IwQ/company-logo_'},\n",
       "   'timePeriod': {'endDate': {'year': 2013}, 'startDate': {'year': 2009}},\n",
       "   'degreeName': 'Bachelor of Engineering (B.Eng.)',\n",
       "   'schoolName': 'Huazhong University of Science and Technology',\n",
       "   'fieldOfStudy': 'Electronics and Information Engineering',\n",
       "   'schoolUrn': 'urn:li:fs_miniSchool:11182'}]}"
      ]
     },
     "execution_count": 17,
     "metadata": {},
     "output_type": "execute_result"
    }
   ],
   "source": [
    "linkedin_profile"
   ]
  },
  {
   "cell_type": "code",
   "execution_count": null,
   "id": "42294a04",
   "metadata": {},
   "outputs": [],
   "source": []
  },
  {
   "cell_type": "code",
   "execution_count": null,
   "id": "2ac1df75",
   "metadata": {},
   "outputs": [],
   "source": []
  }
 ],
 "metadata": {
  "kernelspec": {
   "display_name": "dp",
   "language": "python",
   "name": "dp"
  },
  "language_info": {
   "codemirror_mode": {
    "name": "ipython",
    "version": 3
   },
   "file_extension": ".py",
   "mimetype": "text/x-python",
   "name": "python",
   "nbconvert_exporter": "python",
   "pygments_lexer": "ipython3",
   "version": "3.9.12"
  }
 },
 "nbformat": 4,
 "nbformat_minor": 5
}
