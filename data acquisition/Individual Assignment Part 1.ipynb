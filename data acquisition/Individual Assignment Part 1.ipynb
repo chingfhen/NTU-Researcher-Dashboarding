{
 "cells": [
  {
   "cell_type": "markdown",
   "id": "8e35a76d",
   "metadata": {},
   "source": [
    "## Crawling all NTU Researchers\n",
    "- Just in case information from other faculties is required in later stages, all 1441 researchers from ntu were crawled with scrapy spider\n",
    "- Using a crawler is also much faster\n",
    "- output saved to researchers.json\n"
   ]
  },
  {
   "cell_type": "code",
   "execution_count": 1,
   "id": "5eaf10a4",
   "metadata": {},
   "outputs": [],
   "source": [
    "import scrapy\n",
    "import re\n",
    "class CrawlResearchersSpider(scrapy.Spider):\n",
    "    name = 'crawl_researchers'\n",
    "    allowed_domains = ['dr.ntu.edu.sg']\n",
    "    \n",
    "    # start_urls = [\"https://dr.ntu.edu.sg/simple-search?query=&location=researcherprofiles&crisID=&relationName=&sort_by=score&order=desc&rpp=50&etal=0&start=0\"]\n",
    "    start_urls = [\"https://dr.ntu.edu.sg/simple-search?location=researcherprofiles\"]\n",
    "    \n",
    "    def parse(self, response):\n",
    "    \n",
    "        # parse the all names and emails, then go to each profile\n",
    "        domain = \"https://dr.ntu.edu.sg\"\n",
    "        researcher_rows = response.css(\"table.table.table-hover td\")\n",
    "        names = researcher_rows.css(\"td[headers=t1] a::text\").getall()\n",
    "        emails = researcher_rows.css(\"td[headers=t3]::text\").getall()\n",
    "        endpoints = researcher_rows.css(\"td a::attr(href)\").getall()\n",
    "        for i, endpoint in enumerate(endpoints):\n",
    "            dr_ntu_profile_url = domain+endpoint\n",
    "            meta = {\n",
    "                \"full_name\":names[i],\n",
    "                \"email\":emails[i],\n",
    "                \"dr_ntu_url\": dr_ntu_profile_url\n",
    "            }\n",
    "            yield response.follow(dr_ntu_profile_url, callback = self.parse_profile, meta = meta)\n",
    "            \n",
    "        # check if there's next page then go to next page\n",
    "        pagination = response.css(\"ul.pagination.pull-right\")\n",
    "        has_next = \"next\" in pagination.css(\"li a[href] ::text\").getall()\n",
    "        if has_next:\n",
    "            next_endpoint = pagination.css(\"li a::attr(href)\").getall()[-1]\n",
    "            next_link = domain+next_endpoint\n",
    "            yield response.follow(next_link, callback=self.parse)\n",
    "        \n",
    "    # parse the schools and personal sites, then save following data: full_name, email, dr_ntu_url, schools, personal_site\n",
    "    def parse_profile(self, response):\n",
    "        output = {\n",
    "            \"full_name\": response.meta[\"full_name\"],\n",
    "            \"email\":response.meta[\"email\"],\n",
    "            \"dr_ntu_url\": response.meta[\"dr_ntu_url\"]\n",
    "        }\n",
    "        info = response.css(\"div[id=researcherInfo]\")\n",
    "        schools = [self.clean_school(string) for string in info.css(\"div::text\").getall() if re.search('[a-zA-Z]', string)]\n",
    "        output[\"schools\"] = schools\n",
    "        output[\"personal_site\"] = info.css(\"div[id=personalsiteDiv] a::attr(href)\").get()\n",
    "        yield output\n",
    "        \n",
    "        \n",
    "    # remove extra spaces, \\n and \\t\n",
    "    def clean_school(self, string):\n",
    "        string = re.sub(r\"[\\n\\t]*\", \"\", string)\n",
    "        string = re.sub(' +', ' ', string)\n",
    "        return string.strip()"
   ]
  },
  {
   "cell_type": "markdown",
   "id": "2bb489f2",
   "metadata": {},
   "source": [
    "## Extracting SCSE Researchers\n",
    "- Used fuzzy string matching to acquire 82 scse researchers from 1441 ntu researchers\n",
    "- although a simple solution could already suffice here, this proposed solution will be much more robust when the data becomes very dirty"
   ]
  },
  {
   "cell_type": "code",
   "execution_count": 2,
   "id": "5a51e3ce",
   "metadata": {},
   "outputs": [],
   "source": [
    "import json\n",
    "import pandas as pd\n",
    "from fuzzywuzzy import fuzz\n",
    "from fuzzywuzzy import process\n",
    "path = r\"C:\\Users\\tanch\\Documents\\NTU\\NTU Year 4\\Semester 1\\CZ4125 - Developing Data Products\\Assignments\\Individual Assignment\\Part 1\\researchers\\researchers.json\"\n",
    "with open(path) as f:\n",
    "    data = json.load(f)\n",
    "    data = pd.DataFrame(data)"
   ]
  },
  {
   "cell_type": "code",
   "execution_count": null,
   "id": "cfd0bf0e",
   "metadata": {},
   "outputs": [],
   "source": []
  },
  {
   "cell_type": "code",
   "execution_count": 5,
   "id": "cc964904",
   "metadata": {},
   "outputs": [],
   "source": [
    "# this scorer combines multiple scorers from fuzzwuzzy st \"School of Computer Science and Engineering\" can be matched with\n",
    "# 1. \"John, School  of Computer    Science   and  Engineering\"\n",
    "# 2. \"John, School  of of Computer    Science   and  Engineering (SCSE)\"\n",
    "# 3. \"John, School  of Computer    Engineering and Computer Science\"\n",
    "# Benefits: \n",
    "# minimal processing is required while still maintaining performance. \n",
    "# The problem with applying to much processing is that there are a lot of edge cases to account for, which is not feasible when the data size is very large\n",
    "# this method is generalizable to other schools like \"School of Physical & Mathematical Sciences\" or even other strings\n",
    "# will be advantageous when the data starts to become very dirty \n",
    "# Note: Actually a simple \"Computer Science\" in s2 will suffice in this problem because the data is still quite clean\n",
    "def score(s1, s2):\n",
    "    scores = [\n",
    "        fuzz.token_sort_ratio(s1, s2), \n",
    "        fuzz.token_set_ratio(s1, s2), \n",
    "        fuzz.partial_ratio(s1, s2)\n",
    "    ]\n",
    "    return max(scores)\n",
    "\n",
    "# return True if target_string is found in choices using the scorer\n",
    "# Given choices [\"Associate Chair (Faculty), School of Computer Science and Engineering (SCSE)\", 'Associate Chair (Faculty), CCEB', 'Professor, School of Chemistry, Chemical Engineering and Biotechnology'\n",
    "# \"School of Computer Science and Engineering\" will output True \n",
    "def fuzzy_in_list(target_string, choices, scorer = score, score_cutoff = 100):\n",
    "    # this function by default, does the essential processing e.g leading, trailing spaces, non-letters, cases\n",
    "    result = process.extractOne(target_string, choices, scorer = scorer, score_cutoff = score_cutoff)\n",
    "    return result is not None"
   ]
  },
  {
   "cell_type": "code",
   "execution_count": 6,
   "id": "442384b7",
   "metadata": {},
   "outputs": [
    {
     "data": {
      "text/html": [
       "<div>\n",
       "<style scoped>\n",
       "    .dataframe tbody tr th:only-of-type {\n",
       "        vertical-align: middle;\n",
       "    }\n",
       "\n",
       "    .dataframe tbody tr th {\n",
       "        vertical-align: top;\n",
       "    }\n",
       "\n",
       "    .dataframe thead th {\n",
       "        text-align: right;\n",
       "    }\n",
       "</style>\n",
       "<table border=\"1\" class=\"dataframe\">\n",
       "  <thead>\n",
       "    <tr style=\"text-align: right;\">\n",
       "      <th></th>\n",
       "      <th>full_name</th>\n",
       "      <th>email</th>\n",
       "      <th>dr_ntu_url</th>\n",
       "      <th>schools</th>\n",
       "      <th>personal_site</th>\n",
       "    </tr>\n",
       "  </thead>\n",
       "  <tbody>\n",
       "    <tr>\n",
       "      <th>19</th>\n",
       "      <td>Lin Guosheng</td>\n",
       "      <td>gslin@ntu.edu.sg</td>\n",
       "      <td>https://dr.ntu.edu.sg/cris/rp/rp00483</td>\n",
       "      <td>[Assistant Professor, School of Computer Scien...</td>\n",
       "      <td>https://guosheng.github.io/</td>\n",
       "    </tr>\n",
       "    <tr>\n",
       "      <th>22</th>\n",
       "      <td>Yu Han</td>\n",
       "      <td>han.yu@ntu.edu.sg</td>\n",
       "      <td>https://dr.ntu.edu.sg/cris/rp/rp00334</td>\n",
       "      <td>[Nanyang Assistant Professor, School of Comput...</td>\n",
       "      <td>http://hanyu.sg</td>\n",
       "    </tr>\n",
       "    <tr>\n",
       "      <th>26</th>\n",
       "      <td>Liu Weichen</td>\n",
       "      <td>liu@ntu.edu.sg</td>\n",
       "      <td>https://dr.ntu.edu.sg/cris/rp/rp00280</td>\n",
       "      <td>[Nanyang Assistant Professor, School of Comput...</td>\n",
       "      <td>https://personal.ntu.edu.sg/liu/</td>\n",
       "    </tr>\n",
       "    <tr>\n",
       "      <th>41</th>\n",
       "      <td>Lam Siew Kei</td>\n",
       "      <td>assklam@ntu.edu.sg</td>\n",
       "      <td>https://dr.ntu.edu.sg/cris/rp/rp00901</td>\n",
       "      <td>[Associate Professor, School of Computer Scien...</td>\n",
       "      <td>https://personal.ntu.edu.sg/assklam/</td>\n",
       "    </tr>\n",
       "    <tr>\n",
       "      <th>46</th>\n",
       "      <td>Loke Yuan Ren</td>\n",
       "      <td>yrloke@ntu.edu.sg</td>\n",
       "      <td>https://dr.ntu.edu.sg/cris/rp/rp00585</td>\n",
       "      <td>[Lecturer, School of Computer Science and Engi...</td>\n",
       "      <td>https://personal.ntu.edu.sg/yrloke/</td>\n",
       "    </tr>\n",
       "    <tr>\n",
       "      <th>...</th>\n",
       "      <td>...</td>\n",
       "      <td>...</td>\n",
       "      <td>...</td>\n",
       "      <td>...</td>\n",
       "      <td>...</td>\n",
       "    </tr>\n",
       "    <tr>\n",
       "      <th>1346</th>\n",
       "      <td>Long Cheng</td>\n",
       "      <td>c.long@ntu.edu.sg</td>\n",
       "      <td>https://dr.ntu.edu.sg/cris/rp/rp00772</td>\n",
       "      <td>[Assistant Professor, School of Computer Scien...</td>\n",
       "      <td>https://personal.ntu.edu.sg/c.long</td>\n",
       "    </tr>\n",
       "    <tr>\n",
       "      <th>1368</th>\n",
       "      <td>Luo Siqiang （骆思强）</td>\n",
       "      <td>siqiang.luo@ntu.edu.sg</td>\n",
       "      <td>https://dr.ntu.edu.sg/cris/rp/rp01311</td>\n",
       "      <td>[Assistant Professor, School of Computer Scien...</td>\n",
       "      <td>https://siqiangluo.wixsite.com/homepage</td>\n",
       "    </tr>\n",
       "    <tr>\n",
       "      <th>1391</th>\n",
       "      <td>Tang Xueyan</td>\n",
       "      <td>asxytang@ntu.edu.sg</td>\n",
       "      <td>https://dr.ntu.edu.sg/cris/rp/rp00075</td>\n",
       "      <td>[Associate Professor, School of Computer Scien...</td>\n",
       "      <td>https://personal.ntu.edu.sg/asxytang/</td>\n",
       "    </tr>\n",
       "    <tr>\n",
       "      <th>1407</th>\n",
       "      <td>Erik Cambria</td>\n",
       "      <td>cambria@ntu.edu.sg</td>\n",
       "      <td>https://dr.ntu.edu.sg/cris/rp/rp00927</td>\n",
       "      <td>[Associate Professor, School of Computer Scien...</td>\n",
       "      <td>https://sentic.net</td>\n",
       "    </tr>\n",
       "    <tr>\n",
       "      <th>1422</th>\n",
       "      <td>Liu Yang</td>\n",
       "      <td>yangliu@ntu.edu.sg</td>\n",
       "      <td>https://dr.ntu.edu.sg/cris/rp/rp00564</td>\n",
       "      <td>[Professor, School of Computer Science and Eng...</td>\n",
       "      <td>https://personal.ntu.edu.sg/yangliu</td>\n",
       "    </tr>\n",
       "  </tbody>\n",
       "</table>\n",
       "<p>82 rows × 5 columns</p>\n",
       "</div>"
      ],
      "text/plain": [
       "              full_name                   email  \\\n",
       "19         Lin Guosheng        gslin@ntu.edu.sg   \n",
       "22               Yu Han       han.yu@ntu.edu.sg   \n",
       "26          Liu Weichen          liu@ntu.edu.sg   \n",
       "41         Lam Siew Kei      assklam@ntu.edu.sg   \n",
       "46        Loke Yuan Ren       yrloke@ntu.edu.sg   \n",
       "...                 ...                     ...   \n",
       "1346         Long Cheng       c.long@ntu.edu.sg   \n",
       "1368  Luo Siqiang （骆思强）  siqiang.luo@ntu.edu.sg   \n",
       "1391        Tang Xueyan     asxytang@ntu.edu.sg   \n",
       "1407       Erik Cambria      cambria@ntu.edu.sg   \n",
       "1422           Liu Yang      yangliu@ntu.edu.sg   \n",
       "\n",
       "                                 dr_ntu_url  \\\n",
       "19    https://dr.ntu.edu.sg/cris/rp/rp00483   \n",
       "22    https://dr.ntu.edu.sg/cris/rp/rp00334   \n",
       "26    https://dr.ntu.edu.sg/cris/rp/rp00280   \n",
       "41    https://dr.ntu.edu.sg/cris/rp/rp00901   \n",
       "46    https://dr.ntu.edu.sg/cris/rp/rp00585   \n",
       "...                                     ...   \n",
       "1346  https://dr.ntu.edu.sg/cris/rp/rp00772   \n",
       "1368  https://dr.ntu.edu.sg/cris/rp/rp01311   \n",
       "1391  https://dr.ntu.edu.sg/cris/rp/rp00075   \n",
       "1407  https://dr.ntu.edu.sg/cris/rp/rp00927   \n",
       "1422  https://dr.ntu.edu.sg/cris/rp/rp00564   \n",
       "\n",
       "                                                schools  \\\n",
       "19    [Assistant Professor, School of Computer Scien...   \n",
       "22    [Nanyang Assistant Professor, School of Comput...   \n",
       "26    [Nanyang Assistant Professor, School of Comput...   \n",
       "41    [Associate Professor, School of Computer Scien...   \n",
       "46    [Lecturer, School of Computer Science and Engi...   \n",
       "...                                                 ...   \n",
       "1346  [Assistant Professor, School of Computer Scien...   \n",
       "1368  [Assistant Professor, School of Computer Scien...   \n",
       "1391  [Associate Professor, School of Computer Scien...   \n",
       "1407  [Associate Professor, School of Computer Scien...   \n",
       "1422  [Professor, School of Computer Science and Eng...   \n",
       "\n",
       "                                personal_site  \n",
       "19                https://guosheng.github.io/  \n",
       "22                            http://hanyu.sg  \n",
       "26           https://personal.ntu.edu.sg/liu/  \n",
       "41       https://personal.ntu.edu.sg/assklam/  \n",
       "46        https://personal.ntu.edu.sg/yrloke/  \n",
       "...                                       ...  \n",
       "1346       https://personal.ntu.edu.sg/c.long  \n",
       "1368  https://siqiangluo.wixsite.com/homepage  \n",
       "1391    https://personal.ntu.edu.sg/asxytang/  \n",
       "1407                       https://sentic.net  \n",
       "1422      https://personal.ntu.edu.sg/yangliu  \n",
       "\n",
       "[82 rows x 5 columns]"
      ]
     },
     "execution_count": 6,
     "metadata": {},
     "output_type": "execute_result"
    }
   ],
   "source": [
    "# indeed there are 82 researchers in SCSE (shown in website)\n",
    "target_school = \"School of Computer Science and Engineering\"\n",
    "in_scse = data.schools.apply(lambda choices: fuzzy_in_list(target_school, choices))\n",
    "scse = data[in_scse]\n",
    "scse"
   ]
  },
  {
   "cell_type": "code",
   "execution_count": 7,
   "id": "e286e197",
   "metadata": {},
   "outputs": [],
   "source": [
    "# import pickle\n",
    "# path = r\"C:\\Users\\tanch\\Documents\\NTU\\NTU Year 4\\Semester 1\\CZ4125 - Developing Data Products\\Assignments\\Individual Assignment\\Part 1\\researchers_names.pkl\"\n",
    "# with open(path, \"wb\") as f:\n",
    "#     pickle.dump(data[in_scse].full_name.tolist(), f)"
   ]
  },
  {
   "cell_type": "code",
   "execution_count": 8,
   "id": "3832fcd0",
   "metadata": {
    "scrolled": true
   },
   "outputs": [],
   "source": [
    "scse.personal_site[scse.personal_site.apply(lambda site: site is None)] = pd.NA\n",
    "names = scse.full_name.tolist()"
   ]
  },
  {
   "cell_type": "markdown",
   "id": "7bc6aa53",
   "metadata": {},
   "source": [
    "## dblp links\n",
    "- subsequent sections no longer used crawler because it seems like the sites restricted too much crawling, thus i had to settle with beautifulsoup which is much slower\n",
    "- steps:\n",
    "    - perform search with the name\n",
    "        - if there are no results try another variation of the name\n",
    "    - if there is one result only, i assume its correct and return\n",
    "    - if there are multiple\n",
    "        - return the first one that matches \"Nanyang Technological University\"\n",
    "        - if no match return the first result"
   ]
  },
  {
   "cell_type": "code",
   "execution_count": 9,
   "id": "4f8814d4",
   "metadata": {},
   "outputs": [],
   "source": [
    "import requests\n",
    "import bs4\n",
    "from bs4 import BeautifulSoup\n",
    "from tqdm import tqdm"
   ]
  },
  {
   "cell_type": "code",
   "execution_count": 10,
   "id": "def7088b",
   "metadata": {},
   "outputs": [],
   "source": [
    "def get_dblp_link(name):\n",
    "    soup  = get_soup(name)\n",
    "    authors = soup.find(\"div\", {\"id\":\"completesearch-authors\"}).find_all(\"li\", {\"itemtype\":\"http://schema.org/Person\"})\n",
    "    if len(authors) == 0:\n",
    "        # if no results clean the name, try again\n",
    "        soup  = get_soup(ugly_clean(name))\n",
    "        authors = soup.find(\"div\", {\"id\":\"completesearch-authors\"}).find_all(\"li\", {\"itemtype\":\"http://schema.org/Person\"})\n",
    "    # save the first link as the most likely solution\n",
    "    if len(authors) >= 1:\n",
    "        first_link = authors[0].find(\"a\")[\"href\"]\n",
    "    # if there's only one option, return link\n",
    "    if len(authors) == 1:\n",
    "        return first_link\n",
    "    # if there are multiple, check if its ntu, then return link \n",
    "    for a in authors:\n",
    "        description = a.find(\"small\")\n",
    "        if description is not None and \"Nanyang Technological University\" in description.text:\n",
    "            link = a.find(\"a\")[\"href\"]\n",
    "            return link\n",
    "    # if nothing fits, return first link\n",
    "    return first_link\n",
    "\n",
    "def get_soup(name):\n",
    "    url = get_dblp_query_url(name)\n",
    "    r = requests.get(url)\n",
    "    soup  = BeautifulSoup(r.text, \"html.parser\")\n",
    "    return soup\n",
    "def get_dblp_query_url(name):\n",
    "    return \"https://dblp.org/search?q=\"+\"%20\".join(name.strip().split())\n",
    "def ugly_clean(name):\n",
    "    if \",\" in name:\n",
    "        return name.split(\",\")[0]\n",
    "    words = name.split()\n",
    "    words[1] = words[1][0]\n",
    "    return \" \".join(words)"
   ]
  },
  {
   "cell_type": "code",
   "execution_count": 11,
   "id": "23006d42",
   "metadata": {
    "scrolled": true
   },
   "outputs": [
    {
     "name": "stderr",
     "output_type": "stream",
     "text": [
      "\r",
      "  0%|                                                                                           | 0/82 [00:00<?, ?it/s]"
     ]
    },
    {
     "name": "stdout",
     "output_type": "stream",
     "text": [
      "Lin Guosheng\n"
     ]
    },
    {
     "name": "stderr",
     "output_type": "stream",
     "text": [
      "\r",
      "  1%|█                                                                                  | 1/82 [00:00<01:08,  1.18it/s]"
     ]
    },
    {
     "name": "stdout",
     "output_type": "stream",
     "text": [
      "Yu Han\n"
     ]
    },
    {
     "name": "stderr",
     "output_type": "stream",
     "text": [
      "\r",
      "  2%|██                                                                                 | 2/82 [00:02<01:24,  1.06s/it]"
     ]
    },
    {
     "name": "stdout",
     "output_type": "stream",
     "text": [
      "Liu Weichen\n"
     ]
    },
    {
     "name": "stderr",
     "output_type": "stream",
     "text": [
      "\r",
      "  4%|███                                                                                | 3/82 [00:05<02:33,  1.94s/it]"
     ]
    },
    {
     "name": "stdout",
     "output_type": "stream",
     "text": [
      "Lam Siew Kei\n"
     ]
    },
    {
     "name": "stderr",
     "output_type": "stream",
     "text": [
      "\r",
      "  5%|████                                                                               | 4/82 [00:06<02:03,  1.58s/it]"
     ]
    },
    {
     "name": "stdout",
     "output_type": "stream",
     "text": [
      "Loke Yuan Ren\n"
     ]
    },
    {
     "name": "stderr",
     "output_type": "stream",
     "text": [
      "\r",
      "  6%|█████                                                                              | 5/82 [00:06<01:37,  1.26s/it]"
     ]
    },
    {
     "name": "stdout",
     "output_type": "stream",
     "text": [
      "Lam Kwok Yan\n"
     ]
    },
    {
     "name": "stderr",
     "output_type": "stream",
     "text": [
      "\r",
      "  7%|██████                                                                             | 6/82 [00:08<01:35,  1.26s/it]"
     ]
    },
    {
     "name": "stdout",
     "output_type": "stream",
     "text": [
      "Guan Cuntai\n"
     ]
    },
    {
     "name": "stderr",
     "output_type": "stream",
     "text": [
      "\r",
      "  9%|███████                                                                            | 7/82 [00:09<01:39,  1.33s/it]"
     ]
    },
    {
     "name": "stdout",
     "output_type": "stream",
     "text": [
      "Anwitaman Datta\n"
     ]
    },
    {
     "name": "stderr",
     "output_type": "stream",
     "text": [
      "\r",
      " 10%|████████                                                                           | 8/82 [00:10<01:28,  1.20s/it]"
     ]
    },
    {
     "name": "stdout",
     "output_type": "stream",
     "text": [
      "Lin Weisi\n"
     ]
    },
    {
     "name": "stderr",
     "output_type": "stream",
     "text": [
      "\r",
      " 11%|█████████                                                                          | 9/82 [00:11<01:22,  1.13s/it]"
     ]
    },
    {
     "name": "stdout",
     "output_type": "stream",
     "text": [
      "Liu Ziwei\n"
     ]
    },
    {
     "name": "stderr",
     "output_type": "stream",
     "text": [
      "\r",
      " 12%|██████████                                                                        | 10/82 [00:12<01:19,  1.11s/it]"
     ]
    },
    {
     "name": "stdout",
     "output_type": "stream",
     "text": [
      "Chee Wei Tan\n"
     ]
    },
    {
     "name": "stderr",
     "output_type": "stream",
     "text": [
      "\r",
      " 13%|███████████                                                                       | 11/82 [00:13<01:26,  1.22s/it]"
     ]
    },
    {
     "name": "stdout",
     "output_type": "stream",
     "text": [
      "Fan Xiuyi\n"
     ]
    },
    {
     "name": "stderr",
     "output_type": "stream",
     "text": [
      "\r",
      " 15%|████████████                                                                      | 12/82 [00:14<01:18,  1.12s/it]"
     ]
    },
    {
     "name": "stdout",
     "output_type": "stream",
     "text": [
      "Anupam Chattopadhyay\n"
     ]
    },
    {
     "name": "stderr",
     "output_type": "stream",
     "text": [
      "\r",
      " 16%|█████████████                                                                     | 13/82 [00:15<01:15,  1.09s/it]"
     ]
    },
    {
     "name": "stdout",
     "output_type": "stream",
     "text": [
      "Zhao Jun\n"
     ]
    },
    {
     "name": "stderr",
     "output_type": "stream",
     "text": [
      "\r",
      " 17%|██████████████                                                                    | 14/82 [00:16<01:11,  1.06s/it]"
     ]
    },
    {
     "name": "stdout",
     "output_type": "stream",
     "text": [
      "Quek Hiok Chai\n"
     ]
    },
    {
     "name": "stderr",
     "output_type": "stream",
     "text": [
      "\r",
      " 18%|███████████████                                                                   | 15/82 [00:18<01:14,  1.11s/it]"
     ]
    },
    {
     "name": "stdout",
     "output_type": "stream",
     "text": [
      "Sun Aixin\n"
     ]
    },
    {
     "name": "stderr",
     "output_type": "stream",
     "text": [
      "\r",
      " 20%|████████████████                                                                  | 16/82 [00:19<01:13,  1.11s/it]"
     ]
    },
    {
     "name": "stdout",
     "output_type": "stream",
     "text": [
      "A S Madhukumar\n"
     ]
    },
    {
     "name": "stderr",
     "output_type": "stream",
     "text": [
      "\r",
      " 21%|█████████████████                                                                 | 17/82 [00:20<01:25,  1.32s/it]"
     ]
    },
    {
     "name": "stdout",
     "output_type": "stream",
     "text": [
      "Deepu Rajan\n"
     ]
    },
    {
     "name": "stderr",
     "output_type": "stream",
     "text": [
      "\r",
      " 22%|██████████████████                                                                | 18/82 [00:21<01:17,  1.21s/it]"
     ]
    },
    {
     "name": "stdout",
     "output_type": "stream",
     "text": [
      "Zheng Jianmin\n"
     ]
    },
    {
     "name": "stderr",
     "output_type": "stream",
     "text": [
      "\r",
      " 23%|███████████████████                                                               | 19/82 [00:22<01:12,  1.14s/it]"
     ]
    },
    {
     "name": "stdout",
     "output_type": "stream",
     "text": [
      "Lin Shang-Wei\n"
     ]
    },
    {
     "name": "stderr",
     "output_type": "stream",
     "text": [
      "\r",
      " 24%|████████████████████                                                              | 20/82 [00:23<01:08,  1.10s/it]"
     ]
    },
    {
     "name": "stdout",
     "output_type": "stream",
     "text": [
      "Wentong Cai\n"
     ]
    },
    {
     "name": "stderr",
     "output_type": "stream",
     "text": [
      "\r",
      " 26%|█████████████████████                                                             | 21/82 [00:24<01:03,  1.04s/it]"
     ]
    },
    {
     "name": "stdout",
     "output_type": "stream",
     "text": [
      "Li Yi\n"
     ]
    },
    {
     "name": "stderr",
     "output_type": "stream",
     "text": [
      "\r",
      " 27%|██████████████████████                                                            | 22/82 [00:25<01:05,  1.08s/it]"
     ]
    },
    {
     "name": "stdout",
     "output_type": "stream",
     "text": [
      "Chen Change Loy\n"
     ]
    },
    {
     "name": "stderr",
     "output_type": "stream",
     "text": [
      "\r",
      " 28%|███████████████████████                                                           | 23/82 [00:26<01:02,  1.05s/it]"
     ]
    },
    {
     "name": "stdout",
     "output_type": "stream",
     "text": [
      "Cham Tat Jen\n"
     ]
    },
    {
     "name": "stderr",
     "output_type": "stream",
     "text": [
      "\r",
      " 29%|████████████████████████                                                          | 24/82 [00:27<00:59,  1.03s/it]"
     ]
    },
    {
     "name": "stdout",
     "output_type": "stream",
     "text": [
      "Kwoh Chee Keong\n"
     ]
    },
    {
     "name": "stderr",
     "output_type": "stream",
     "text": [
      "\r",
      " 30%|█████████████████████████                                                         | 25/82 [00:28<00:59,  1.04s/it]"
     ]
    },
    {
     "name": "stdout",
     "output_type": "stream",
     "text": [
      "Smitha K G\n"
     ]
    },
    {
     "name": "stderr",
     "output_type": "stream",
     "text": [
      "\r",
      " 32%|██████████████████████████                                                        | 26/82 [00:29<00:54,  1.03it/s]"
     ]
    },
    {
     "name": "stdout",
     "output_type": "stream",
     "text": [
      "Tan Rui\n"
     ]
    },
    {
     "name": "stderr",
     "output_type": "stream",
     "text": [
      "\r",
      " 33%|███████████████████████████                                                       | 27/82 [00:30<00:53,  1.03it/s]"
     ]
    },
    {
     "name": "stdout",
     "output_type": "stream",
     "text": [
      "Cong Gao\n"
     ]
    },
    {
     "name": "stderr",
     "output_type": "stream",
     "text": [
      "\r",
      " 34%|████████████████████████████                                                      | 28/82 [00:31<00:53,  1.00it/s]"
     ]
    },
    {
     "name": "stdout",
     "output_type": "stream",
     "text": [
      "Seah Hock Soon\n"
     ]
    },
    {
     "name": "stderr",
     "output_type": "stream",
     "text": [
      "\r",
      " 35%|█████████████████████████████                                                     | 29/82 [00:32<00:52,  1.02it/s]"
     ]
    },
    {
     "name": "stdout",
     "output_type": "stream",
     "text": [
      "Luo Jun\n"
     ]
    },
    {
     "name": "stderr",
     "output_type": "stream",
     "text": [
      "\r",
      " 37%|██████████████████████████████                                                    | 30/82 [00:33<00:50,  1.02it/s]"
     ]
    },
    {
     "name": "stdout",
     "output_type": "stream",
     "text": [
      "Shen Zhiqi\n"
     ]
    },
    {
     "name": "stderr",
     "output_type": "stream",
     "text": [
      "\r",
      " 38%|███████████████████████████████                                                   | 31/82 [00:34<00:49,  1.02it/s]"
     ]
    },
    {
     "name": "stdout",
     "output_type": "stream",
     "text": [
      "He Ying\n"
     ]
    },
    {
     "name": "stderr",
     "output_type": "stream",
     "text": [
      "\r",
      " 39%|████████████████████████████████                                                  | 32/82 [00:35<00:48,  1.03it/s]"
     ]
    },
    {
     "name": "stdout",
     "output_type": "stream",
     "text": [
      "Sourav Saha Bhowmick\n"
     ]
    },
    {
     "name": "stderr",
     "output_type": "stream",
     "text": [
      "\r",
      " 40%|█████████████████████████████████                                                 | 33/82 [00:37<00:56,  1.16s/it]"
     ]
    },
    {
     "name": "stdout",
     "output_type": "stream",
     "text": [
      "Alexei Sourin\n"
     ]
    },
    {
     "name": "stderr",
     "output_type": "stream",
     "text": [
      "\r",
      " 41%|██████████████████████████████████                                                | 34/82 [00:38<00:52,  1.09s/it]"
     ]
    },
    {
     "name": "stdout",
     "output_type": "stream",
     "text": [
      "Miao Chun Yan\n"
     ]
    },
    {
     "name": "stderr",
     "output_type": "stream",
     "text": [
      "\r",
      " 43%|███████████████████████████████████                                               | 35/82 [00:39<00:49,  1.05s/it]"
     ]
    },
    {
     "name": "stdout",
     "output_type": "stream",
     "text": [
      "Yeo Chai Kiat\n"
     ]
    },
    {
     "name": "stderr",
     "output_type": "stream",
     "text": [
      "\r",
      " 44%|████████████████████████████████████                                              | 36/82 [00:40<00:46,  1.02s/it]"
     ]
    },
    {
     "name": "stdout",
     "output_type": "stream",
     "text": [
      "Chng Eng Siong\n"
     ]
    },
    {
     "name": "stderr",
     "output_type": "stream",
     "text": [
      "\r",
      " 45%|█████████████████████████████████████                                             | 37/82 [00:41<00:44,  1.01it/s]"
     ]
    },
    {
     "name": "stdout",
     "output_type": "stream",
     "text": [
      "Douglas Leslie Maskell\n"
     ]
    },
    {
     "name": "stderr",
     "output_type": "stream",
     "text": [
      "\r",
      " 46%|██████████████████████████████████████                                            | 38/82 [00:42<00:44,  1.02s/it]"
     ]
    },
    {
     "name": "stdout",
     "output_type": "stream",
     "text": [
      "Lin Feng\n"
     ]
    },
    {
     "name": "stderr",
     "output_type": "stream",
     "text": [
      "\r",
      " 48%|███████████████████████████████████████                                           | 39/82 [00:43<00:45,  1.06s/it]"
     ]
    },
    {
     "name": "stdout",
     "output_type": "stream",
     "text": [
      "Huang Shell Ying\n"
     ]
    },
    {
     "name": "stderr",
     "output_type": "stream",
     "text": [
      "\r",
      " 49%|████████████████████████████████████████                                          | 40/82 [00:44<00:45,  1.09s/it]"
     ]
    },
    {
     "name": "stdout",
     "output_type": "stream",
     "text": [
      "Arvind Easwaran\n"
     ]
    },
    {
     "name": "stderr",
     "output_type": "stream",
     "text": [
      "\r",
      " 50%|█████████████████████████████████████████                                         | 41/82 [00:45<00:42,  1.03s/it]"
     ]
    },
    {
     "name": "stdout",
     "output_type": "stream",
     "text": [
      "Chan Syin\n"
     ]
    },
    {
     "name": "stderr",
     "output_type": "stream",
     "text": [
      "\r",
      " 51%|██████████████████████████████████████████                                        | 42/82 [00:46<00:39,  1.02it/s]"
     ]
    },
    {
     "name": "stdout",
     "output_type": "stream",
     "text": [
      "Zhang Hanwang\n"
     ]
    },
    {
     "name": "stderr",
     "output_type": "stream",
     "text": [
      "\r",
      " 52%|███████████████████████████████████████████                                       | 43/82 [00:47<00:39,  1.02s/it]"
     ]
    },
    {
     "name": "stdout",
     "output_type": "stream",
     "text": [
      "Ong Yew Soon\n"
     ]
    },
    {
     "name": "stderr",
     "output_type": "stream",
     "text": [
      "\r",
      " 54%|████████████████████████████████████████████                                      | 44/82 [00:48<00:37,  1.02it/s]"
     ]
    },
    {
     "name": "stdout",
     "output_type": "stream",
     "text": [
      "Li Fang\n"
     ]
    },
    {
     "name": "stderr",
     "output_type": "stream",
     "text": [
      "\r",
      " 55%|█████████████████████████████████████████████                                     | 45/82 [00:49<00:40,  1.08s/it]"
     ]
    },
    {
     "name": "stdout",
     "output_type": "stream",
     "text": [
      "Tay Kian Boon\n"
     ]
    },
    {
     "name": "stderr",
     "output_type": "stream",
     "text": [
      "\r",
      " 56%|██████████████████████████████████████████████                                    | 46/82 [00:51<00:44,  1.24s/it]"
     ]
    },
    {
     "name": "stdout",
     "output_type": "stream",
     "text": [
      "Vanessa Evers\n"
     ]
    },
    {
     "name": "stderr",
     "output_type": "stream",
     "text": [
      "\r",
      " 57%|██████████████████████████████████████████████▉                                   | 47/82 [00:52<00:40,  1.16s/it]"
     ]
    },
    {
     "name": "stdout",
     "output_type": "stream",
     "text": [
      "Zhang Tianwei\n"
     ]
    },
    {
     "name": "stderr",
     "output_type": "stream",
     "text": [
      "\r",
      " 59%|████████████████████████████████████████████████                                  | 48/82 [00:53<00:37,  1.10s/it]"
     ]
    },
    {
     "name": "stdout",
     "output_type": "stream",
     "text": [
      "Li Mo\n"
     ]
    },
    {
     "name": "stderr",
     "output_type": "stream",
     "text": [
      "\r",
      " 60%|█████████████████████████████████████████████████                                 | 49/82 [00:54<00:36,  1.11s/it]"
     ]
    },
    {
     "name": "stdout",
     "output_type": "stream",
     "text": [
      "Ke Yiping, Kelly\n"
     ]
    },
    {
     "name": "stderr",
     "output_type": "stream",
     "text": [
      "\r",
      " 61%|██████████████████████████████████████████████████                                | 50/82 [00:56<00:43,  1.35s/it]"
     ]
    },
    {
     "name": "stdout",
     "output_type": "stream",
     "text": [
      "Zhang Jie\n"
     ]
    },
    {
     "name": "stderr",
     "output_type": "stream",
     "text": [
      "\r",
      " 62%|███████████████████████████████████████████████████                               | 51/82 [00:57<00:38,  1.25s/it]"
     ]
    },
    {
     "name": "stdout",
     "output_type": "stream",
     "text": [
      "Wen Yonggang\n"
     ]
    },
    {
     "name": "stderr",
     "output_type": "stream",
     "text": [
      "\r",
      " 63%|████████████████████████████████████████████████████                              | 52/82 [00:58<00:39,  1.30s/it]"
     ]
    },
    {
     "name": "stdout",
     "output_type": "stream",
     "text": [
      "Chia Liang Tien\n"
     ]
    },
    {
     "name": "stderr",
     "output_type": "stream",
     "text": [
      "\r",
      " 65%|█████████████████████████████████████████████████████                             | 53/82 [00:59<00:34,  1.20s/it]"
     ]
    },
    {
     "name": "stdout",
     "output_type": "stream",
     "text": [
      "Dusit Niyato\n"
     ]
    },
    {
     "name": "stderr",
     "output_type": "stream",
     "text": [
      "\r",
      " 66%|██████████████████████████████████████████████████████                            | 54/82 [01:00<00:33,  1.20s/it]"
     ]
    },
    {
     "name": "stdout",
     "output_type": "stream",
     "text": [
      "Lau Chiew Tong\n"
     ]
    },
    {
     "name": "stderr",
     "output_type": "stream",
     "text": [
      "\r",
      " 67%|███████████████████████████████████████████████████████                           | 55/82 [01:02<00:33,  1.23s/it]"
     ]
    },
    {
     "name": "stdout",
     "output_type": "stream",
     "text": [
      "Goh Wooi Boon\n"
     ]
    },
    {
     "name": "stderr",
     "output_type": "stream",
     "text": [
      "\r",
      " 68%|████████████████████████████████████████████████████████                          | 56/82 [01:02<00:29,  1.13s/it]"
     ]
    },
    {
     "name": "stdout",
     "output_type": "stream",
     "text": [
      "Hui Siu Cheung\n"
     ]
    },
    {
     "name": "stderr",
     "output_type": "stream",
     "text": [
      "\r",
      " 70%|████████████████████████████████████████████████████████▉                         | 57/82 [01:03<00:27,  1.09s/it]"
     ]
    },
    {
     "name": "stdout",
     "output_type": "stream",
     "text": [
      "Thambipillai Srikanthan\n"
     ]
    },
    {
     "name": "stderr",
     "output_type": "stream",
     "text": [
      "\r",
      " 71%|██████████████████████████████████████████████████████████                        | 58/82 [01:04<00:25,  1.05s/it]"
     ]
    },
    {
     "name": "stdout",
     "output_type": "stream",
     "text": [
      "Wee Keong NG\n"
     ]
    },
    {
     "name": "stderr",
     "output_type": "stream",
     "text": [
      "\r",
      " 72%|███████████████████████████████████████████████████████████                       | 59/82 [01:05<00:23,  1.04s/it]"
     ]
    },
    {
     "name": "stdout",
     "output_type": "stream",
     "text": [
      "Jagath Chandana Rajapakse\n"
     ]
    },
    {
     "name": "stderr",
     "output_type": "stream",
     "text": [
      "\r",
      " 73%|████████████████████████████████████████████████████████████                      | 60/82 [01:07<00:26,  1.21s/it]"
     ]
    },
    {
     "name": "stdout",
     "output_type": "stream",
     "text": [
      "Bo An\n"
     ]
    },
    {
     "name": "stderr",
     "output_type": "stream",
     "text": [
      "\r",
      " 74%|█████████████████████████████████████████████████████████████                     | 61/82 [01:08<00:24,  1.15s/it]"
     ]
    },
    {
     "name": "stdout",
     "output_type": "stream",
     "text": [
      "Pan, Sinno Jialin\n"
     ]
    },
    {
     "name": "stderr",
     "output_type": "stream",
     "text": [
      "\r",
      " 76%|██████████████████████████████████████████████████████████████                    | 62/82 [01:09<00:23,  1.16s/it]"
     ]
    },
    {
     "name": "stdout",
     "output_type": "stream",
     "text": [
      "Mohamed M. Sabry\n"
     ]
    },
    {
     "name": "stderr",
     "output_type": "stream",
     "text": [
      "\r",
      " 77%|███████████████████████████████████████████████████████████████                   | 63/82 [01:11<00:26,  1.42s/it]"
     ]
    },
    {
     "name": "stdout",
     "output_type": "stream",
     "text": [
      "Joty Shafiq Rayhan\n"
     ]
    },
    {
     "name": "stderr",
     "output_type": "stream",
     "text": [
      "\r",
      " 78%|████████████████████████████████████████████████████████████████                  | 64/82 [01:12<00:22,  1.26s/it]"
     ]
    },
    {
     "name": "stdout",
     "output_type": "stream",
     "text": [
      "Lu Shijian\n"
     ]
    },
    {
     "name": "stderr",
     "output_type": "stream",
     "text": [
      "\r",
      " 79%|█████████████████████████████████████████████████████████████████                 | 65/82 [01:13<00:20,  1.18s/it]"
     ]
    },
    {
     "name": "stdout",
     "output_type": "stream",
     "text": [
      "Oh Hong Lye\n"
     ]
    },
    {
     "name": "stderr",
     "output_type": "stream",
     "text": [
      "\r",
      " 80%|██████████████████████████████████████████████████████████████████                | 66/82 [01:14<00:16,  1.01s/it]"
     ]
    },
    {
     "name": "stdout",
     "output_type": "stream",
     "text": [
      "Owen Noel Newton Fernando\n"
     ]
    },
    {
     "name": "stderr",
     "output_type": "stream",
     "text": [
      "\r",
      " 82%|███████████████████████████████████████████████████████████████████               | 67/82 [01:15<00:15,  1.06s/it]"
     ]
    },
    {
     "name": "stdout",
     "output_type": "stream",
     "text": [
      "Lana Obraztsova\n"
     ]
    },
    {
     "name": "stderr",
     "output_type": "stream",
     "text": [
      "\r",
      " 83%|████████████████████████████████████████████████████████████████████              | 68/82 [01:17<00:17,  1.24s/it]"
     ]
    },
    {
     "name": "stdout",
     "output_type": "stream",
     "text": [
      "Zinovi Rabinovich\n"
     ]
    },
    {
     "name": "stderr",
     "output_type": "stream",
     "text": [
      "\r",
      " 84%|█████████████████████████████████████████████████████████████████████             | 69/82 [01:18<00:16,  1.28s/it]"
     ]
    },
    {
     "name": "stdout",
     "output_type": "stream",
     "text": [
      "Luke Ong （翁之昊）\n"
     ]
    },
    {
     "name": "stderr",
     "output_type": "stream",
     "text": [
      "\r",
      " 85%|██████████████████████████████████████████████████████████████████████            | 70/82 [01:20<00:16,  1.37s/it]"
     ]
    },
    {
     "name": "stdout",
     "output_type": "stream",
     "text": [
      "Vidya Sudarshan\n"
     ]
    },
    {
     "name": "stderr",
     "output_type": "stream",
     "text": [
      "\r",
      " 87%|███████████████████████████████████████████████████████████████████████           | 71/82 [01:21<00:14,  1.29s/it]"
     ]
    },
    {
     "name": "stdout",
     "output_type": "stream",
     "text": [
      "Luu Anh Tuan\n"
     ]
    },
    {
     "name": "stderr",
     "output_type": "stream",
     "text": [
      "\r",
      " 88%|████████████████████████████████████████████████████████████████████████          | 72/82 [01:23<00:14,  1.48s/it]"
     ]
    },
    {
     "name": "stdout",
     "output_type": "stream",
     "text": [
      "Li Boyang\n"
     ]
    },
    {
     "name": "stderr",
     "output_type": "stream",
     "text": [
      "\r",
      " 89%|█████████████████████████████████████████████████████████████████████████         | 73/82 [01:26<00:18,  2.01s/it]"
     ]
    },
    {
     "name": "stdout",
     "output_type": "stream",
     "text": [
      "Qian Kemao\n"
     ]
    },
    {
     "name": "stderr",
     "output_type": "stream",
     "text": [
      "\r",
      " 90%|██████████████████████████████████████████████████████████████████████████        | 74/82 [01:27<00:14,  1.81s/it]"
     ]
    },
    {
     "name": "stdout",
     "output_type": "stream",
     "text": [
      "Vun Chan Hua, Nicholas\n"
     ]
    },
    {
     "name": "stderr",
     "output_type": "stream",
     "text": [
      "\r",
      " 91%|███████████████████████████████████████████████████████████████████████████       | 75/82 [01:28<00:10,  1.50s/it]"
     ]
    },
    {
     "name": "stdout",
     "output_type": "stream",
     "text": [
      "Lee Bu Sung\n"
     ]
    },
    {
     "name": "stderr",
     "output_type": "stream",
     "text": [
      "\r",
      " 93%|████████████████████████████████████████████████████████████████████████████      | 76/82 [01:29<00:08,  1.34s/it]"
     ]
    },
    {
     "name": "stdout",
     "output_type": "stream",
     "text": [
      "Wai Kin Adams Kong\n"
     ]
    },
    {
     "name": "stderr",
     "output_type": "stream",
     "text": [
      "\r",
      " 94%|█████████████████████████████████████████████████████████████████████████████     | 77/82 [01:30<00:06,  1.21s/it]"
     ]
    },
    {
     "name": "stdout",
     "output_type": "stream",
     "text": [
      "Long Cheng\n"
     ]
    },
    {
     "name": "stderr",
     "output_type": "stream",
     "text": [
      "\r",
      " 95%|██████████████████████████████████████████████████████████████████████████████    | 78/82 [01:31<00:04,  1.14s/it]"
     ]
    },
    {
     "name": "stdout",
     "output_type": "stream",
     "text": [
      "Luo Siqiang （骆思强）\n"
     ]
    },
    {
     "name": "stderr",
     "output_type": "stream",
     "text": [
      "\r",
      " 96%|███████████████████████████████████████████████████████████████████████████████   | 79/82 [01:32<00:03,  1.11s/it]"
     ]
    },
    {
     "name": "stdout",
     "output_type": "stream",
     "text": [
      "Tang Xueyan\n"
     ]
    },
    {
     "name": "stderr",
     "output_type": "stream",
     "text": [
      "\r",
      " 98%|████████████████████████████████████████████████████████████████████████████████  | 80/82 [01:33<00:02,  1.07s/it]"
     ]
    },
    {
     "name": "stdout",
     "output_type": "stream",
     "text": [
      "Erik Cambria\n"
     ]
    },
    {
     "name": "stderr",
     "output_type": "stream",
     "text": [
      "\r",
      " 99%|█████████████████████████████████████████████████████████████████████████████████ | 81/82 [01:34<00:01,  1.25s/it]"
     ]
    },
    {
     "name": "stdout",
     "output_type": "stream",
     "text": [
      "Liu Yang\n"
     ]
    },
    {
     "name": "stderr",
     "output_type": "stream",
     "text": [
      "100%|██████████████████████████████████████████████████████████████████████████████████| 82/82 [01:35<00:00,  1.17s/it]\n"
     ]
    }
   ],
   "source": [
    "dblp_links = []\n",
    "for name in tqdm(names):\n",
    "    print(name)\n",
    "    link = get_dblp_link(name)\n",
    "    dblp_links.append(link)"
   ]
  },
  {
   "cell_type": "code",
   "execution_count": 12,
   "id": "d4c61dd3",
   "metadata": {},
   "outputs": [
    {
     "name": "stderr",
     "output_type": "stream",
     "text": [
      "C:\\Users\\tanch\\AppData\\Local\\Temp\\ipykernel_10728\\4089554922.py:1: SettingWithCopyWarning: \n",
      "A value is trying to be set on a copy of a slice from a DataFrame.\n",
      "Try using .loc[row_indexer,col_indexer] = value instead\n",
      "\n",
      "See the caveats in the documentation: https://pandas.pydata.org/pandas-docs/stable/user_guide/indexing.html#returning-a-view-versus-a-copy\n",
      "  scse[\"dblp_links\"] = dblp_links\n"
     ]
    }
   ],
   "source": [
    "scse[\"dblp_links\"] = dblp_links"
   ]
  },
  {
   "cell_type": "code",
   "execution_count": 14,
   "id": "76b1303e",
   "metadata": {},
   "outputs": [
    {
     "data": {
      "text/html": [
       "<div>\n",
       "<style scoped>\n",
       "    .dataframe tbody tr th:only-of-type {\n",
       "        vertical-align: middle;\n",
       "    }\n",
       "\n",
       "    .dataframe tbody tr th {\n",
       "        vertical-align: top;\n",
       "    }\n",
       "\n",
       "    .dataframe thead th {\n",
       "        text-align: right;\n",
       "    }\n",
       "</style>\n",
       "<table border=\"1\" class=\"dataframe\">\n",
       "  <thead>\n",
       "    <tr style=\"text-align: right;\">\n",
       "      <th></th>\n",
       "      <th>full_name</th>\n",
       "      <th>email</th>\n",
       "      <th>dr_ntu_url</th>\n",
       "      <th>schools</th>\n",
       "      <th>personal_site</th>\n",
       "      <th>dblp_links</th>\n",
       "    </tr>\n",
       "  </thead>\n",
       "  <tbody>\n",
       "    <tr>\n",
       "      <th>19</th>\n",
       "      <td>Lin Guosheng</td>\n",
       "      <td>gslin@ntu.edu.sg</td>\n",
       "      <td>https://dr.ntu.edu.sg/cris/rp/rp00483</td>\n",
       "      <td>[Assistant Professor, School of Computer Scien...</td>\n",
       "      <td>https://guosheng.github.io/</td>\n",
       "      <td>https://dblp.org/pid/126/4778</td>\n",
       "    </tr>\n",
       "    <tr>\n",
       "      <th>22</th>\n",
       "      <td>Yu Han</td>\n",
       "      <td>han.yu@ntu.edu.sg</td>\n",
       "      <td>https://dr.ntu.edu.sg/cris/rp/rp00334</td>\n",
       "      <td>[Nanyang Assistant Professor, School of Comput...</td>\n",
       "      <td>http://hanyu.sg</td>\n",
       "      <td>https://dblp.org/pid/35/1096-1</td>\n",
       "    </tr>\n",
       "    <tr>\n",
       "      <th>26</th>\n",
       "      <td>Liu Weichen</td>\n",
       "      <td>liu@ntu.edu.sg</td>\n",
       "      <td>https://dr.ntu.edu.sg/cris/rp/rp00280</td>\n",
       "      <td>[Nanyang Assistant Professor, School of Comput...</td>\n",
       "      <td>https://personal.ntu.edu.sg/liu/</td>\n",
       "      <td>https://dblp.org/pid/24/914</td>\n",
       "    </tr>\n",
       "    <tr>\n",
       "      <th>41</th>\n",
       "      <td>Lam Siew Kei</td>\n",
       "      <td>assklam@ntu.edu.sg</td>\n",
       "      <td>https://dr.ntu.edu.sg/cris/rp/rp00901</td>\n",
       "      <td>[Associate Professor, School of Computer Scien...</td>\n",
       "      <td>https://personal.ntu.edu.sg/assklam/</td>\n",
       "      <td>https://dblp.org/pid/74/1907</td>\n",
       "    </tr>\n",
       "    <tr>\n",
       "      <th>46</th>\n",
       "      <td>Loke Yuan Ren</td>\n",
       "      <td>yrloke@ntu.edu.sg</td>\n",
       "      <td>https://dr.ntu.edu.sg/cris/rp/rp00585</td>\n",
       "      <td>[Lecturer, School of Computer Science and Engi...</td>\n",
       "      <td>https://personal.ntu.edu.sg/yrloke/</td>\n",
       "      <td>https://dblp.org/pid/11/9550</td>\n",
       "    </tr>\n",
       "    <tr>\n",
       "      <th>...</th>\n",
       "      <td>...</td>\n",
       "      <td>...</td>\n",
       "      <td>...</td>\n",
       "      <td>...</td>\n",
       "      <td>...</td>\n",
       "      <td>...</td>\n",
       "    </tr>\n",
       "    <tr>\n",
       "      <th>1346</th>\n",
       "      <td>Long Cheng</td>\n",
       "      <td>c.long@ntu.edu.sg</td>\n",
       "      <td>https://dr.ntu.edu.sg/cris/rp/rp00772</td>\n",
       "      <td>[Assistant Professor, School of Computer Scien...</td>\n",
       "      <td>https://personal.ntu.edu.sg/c.long</td>\n",
       "      <td>https://dblp.org/pid/49/225</td>\n",
       "    </tr>\n",
       "    <tr>\n",
       "      <th>1368</th>\n",
       "      <td>Luo Siqiang （骆思强）</td>\n",
       "      <td>siqiang.luo@ntu.edu.sg</td>\n",
       "      <td>https://dr.ntu.edu.sg/cris/rp/rp01311</td>\n",
       "      <td>[Assistant Professor, School of Computer Scien...</td>\n",
       "      <td>https://siqiangluo.wixsite.com/homepage</td>\n",
       "      <td>https://dblp.org/pid/117/5965</td>\n",
       "    </tr>\n",
       "    <tr>\n",
       "      <th>1391</th>\n",
       "      <td>Tang Xueyan</td>\n",
       "      <td>asxytang@ntu.edu.sg</td>\n",
       "      <td>https://dr.ntu.edu.sg/cris/rp/rp00075</td>\n",
       "      <td>[Associate Professor, School of Computer Scien...</td>\n",
       "      <td>https://personal.ntu.edu.sg/asxytang/</td>\n",
       "      <td>https://dblp.org/pid/23/2460</td>\n",
       "    </tr>\n",
       "    <tr>\n",
       "      <th>1407</th>\n",
       "      <td>Erik Cambria</td>\n",
       "      <td>cambria@ntu.edu.sg</td>\n",
       "      <td>https://dr.ntu.edu.sg/cris/rp/rp00927</td>\n",
       "      <td>[Associate Professor, School of Computer Scien...</td>\n",
       "      <td>https://sentic.net</td>\n",
       "      <td>https://dblp.org/pid/80/7421</td>\n",
       "    </tr>\n",
       "    <tr>\n",
       "      <th>1422</th>\n",
       "      <td>Liu Yang</td>\n",
       "      <td>yangliu@ntu.edu.sg</td>\n",
       "      <td>https://dr.ntu.edu.sg/cris/rp/rp00564</td>\n",
       "      <td>[Professor, School of Computer Science and Eng...</td>\n",
       "      <td>https://personal.ntu.edu.sg/yangliu</td>\n",
       "      <td>https://dblp.org/pid/51/3710-3</td>\n",
       "    </tr>\n",
       "  </tbody>\n",
       "</table>\n",
       "<p>82 rows × 6 columns</p>\n",
       "</div>"
      ],
      "text/plain": [
       "              full_name                   email  \\\n",
       "19         Lin Guosheng        gslin@ntu.edu.sg   \n",
       "22               Yu Han       han.yu@ntu.edu.sg   \n",
       "26          Liu Weichen          liu@ntu.edu.sg   \n",
       "41         Lam Siew Kei      assklam@ntu.edu.sg   \n",
       "46        Loke Yuan Ren       yrloke@ntu.edu.sg   \n",
       "...                 ...                     ...   \n",
       "1346         Long Cheng       c.long@ntu.edu.sg   \n",
       "1368  Luo Siqiang （骆思强）  siqiang.luo@ntu.edu.sg   \n",
       "1391        Tang Xueyan     asxytang@ntu.edu.sg   \n",
       "1407       Erik Cambria      cambria@ntu.edu.sg   \n",
       "1422           Liu Yang      yangliu@ntu.edu.sg   \n",
       "\n",
       "                                 dr_ntu_url  \\\n",
       "19    https://dr.ntu.edu.sg/cris/rp/rp00483   \n",
       "22    https://dr.ntu.edu.sg/cris/rp/rp00334   \n",
       "26    https://dr.ntu.edu.sg/cris/rp/rp00280   \n",
       "41    https://dr.ntu.edu.sg/cris/rp/rp00901   \n",
       "46    https://dr.ntu.edu.sg/cris/rp/rp00585   \n",
       "...                                     ...   \n",
       "1346  https://dr.ntu.edu.sg/cris/rp/rp00772   \n",
       "1368  https://dr.ntu.edu.sg/cris/rp/rp01311   \n",
       "1391  https://dr.ntu.edu.sg/cris/rp/rp00075   \n",
       "1407  https://dr.ntu.edu.sg/cris/rp/rp00927   \n",
       "1422  https://dr.ntu.edu.sg/cris/rp/rp00564   \n",
       "\n",
       "                                                schools  \\\n",
       "19    [Assistant Professor, School of Computer Scien...   \n",
       "22    [Nanyang Assistant Professor, School of Comput...   \n",
       "26    [Nanyang Assistant Professor, School of Comput...   \n",
       "41    [Associate Professor, School of Computer Scien...   \n",
       "46    [Lecturer, School of Computer Science and Engi...   \n",
       "...                                                 ...   \n",
       "1346  [Assistant Professor, School of Computer Scien...   \n",
       "1368  [Assistant Professor, School of Computer Scien...   \n",
       "1391  [Associate Professor, School of Computer Scien...   \n",
       "1407  [Associate Professor, School of Computer Scien...   \n",
       "1422  [Professor, School of Computer Science and Eng...   \n",
       "\n",
       "                                personal_site                      dblp_links  \n",
       "19                https://guosheng.github.io/   https://dblp.org/pid/126/4778  \n",
       "22                            http://hanyu.sg  https://dblp.org/pid/35/1096-1  \n",
       "26           https://personal.ntu.edu.sg/liu/     https://dblp.org/pid/24/914  \n",
       "41       https://personal.ntu.edu.sg/assklam/    https://dblp.org/pid/74/1907  \n",
       "46        https://personal.ntu.edu.sg/yrloke/    https://dblp.org/pid/11/9550  \n",
       "...                                       ...                             ...  \n",
       "1346       https://personal.ntu.edu.sg/c.long     https://dblp.org/pid/49/225  \n",
       "1368  https://siqiangluo.wixsite.com/homepage   https://dblp.org/pid/117/5965  \n",
       "1391    https://personal.ntu.edu.sg/asxytang/    https://dblp.org/pid/23/2460  \n",
       "1407                       https://sentic.net    https://dblp.org/pid/80/7421  \n",
       "1422      https://personal.ntu.edu.sg/yangliu  https://dblp.org/pid/51/3710-3  \n",
       "\n",
       "[82 rows x 6 columns]"
      ]
     },
     "execution_count": 14,
     "metadata": {},
     "output_type": "execute_result"
    }
   ],
   "source": [
    "scse"
   ]
  },
  {
   "cell_type": "markdown",
   "id": "bd01d6cb",
   "metadata": {},
   "source": [
    "## Extract number of citations by each scse researcher\n",
    "- this section also doesn't use crawler because of crawling restriction\n",
    "- Num citations are extracted from google scholar e.g https://scholar.google.com/citations?hl=en&view_op=search_authors&mauthors=Erik+Cambria+ntu&btnG=\n",
    "- steps are similar to the previous section"
   ]
  },
  {
   "cell_type": "code",
   "execution_count": 16,
   "id": "fc741a98",
   "metadata": {},
   "outputs": [],
   "source": [
    "def get_citations(name):\n",
    "    soup  = get_soup(name)\n",
    "    authors = soup.find(\"div\",{\"id\":\"gsc_sa_ccl\"}).find_all(\"div\",{\"class\":\"gsc_1usr\"})\n",
    "    if len(authors) == 0:\n",
    "        # if no results clean the name, try again\n",
    "        soup  = get_soup(ugly_clean(name))\n",
    "        authors = soup.find(\"div\",{\"id\":\"gsc_sa_ccl\"}).find_all(\"div\",{\"class\":\"gsc_1usr\"})\n",
    "        \n",
    "    # save the first as the most likely solution\n",
    "    first_cited_by = None\n",
    "    if len(authors) >= 1:\n",
    "        first_cited_by = authors[0].find(\"div\",{\"class\":\"gs_ai_cby\"})\n",
    "        first_cited_by = first_cited_by.text if first_cited_by is not None else \"\"\n",
    "    # if there's only one option, return \n",
    "    if len(authors) == 1:\n",
    "        return first_cited_by\n",
    "    # if there are multiple, check if its ntu, then return  \n",
    "    for a in authors:\n",
    "        school = a.find(\"div\",{\"class\":\"gs_ai_aff\"})\n",
    "        school = school.text if school is not None else \"\"\n",
    "        verified_at = a.find(\"div\",{\"class\":\"gs_ai_eml\"})\n",
    "        verified_at = verified_at.text if verified_at is not None else \"\"\n",
    "        if \"Nanyang Technological University\" in school or \"ntu.edu.sg\" in verified_at:\n",
    "            cited_by = a.find(\"div\",{\"class\":\"gs_ai_cby\"})\n",
    "            cited_by = cited_by.text if cited_by is not None else None\n",
    "            return cited_by\n",
    "    # if nothing fits, return first \n",
    "    return first_cited_by if first_cited_by is not None else None\n",
    "\n",
    "def get_soup(name):\n",
    "    url = get_google_scholar_url(name)\n",
    "    r = requests.get(url)\n",
    "    soup  = BeautifulSoup(r.text, \"html.parser\")\n",
    "    return soup\n",
    "def get_google_scholar_url(name, additional_keywords = [\"ntu\"]):\n",
    "    keywords = name.strip().split()+additional_keywords\n",
    "    return \"https://scholar.google.com/citations?hl=en&view_op=search_authors&mauthors=\"+\"+\".join(keywords)"
   ]
  },
  {
   "cell_type": "code",
   "execution_count": 17,
   "id": "7053c4d1",
   "metadata": {
    "scrolled": true
   },
   "outputs": [
    {
     "name": "stderr",
     "output_type": "stream",
     "text": [
      "\r",
      "  0%|                                                                                           | 0/82 [00:00<?, ?it/s]"
     ]
    },
    {
     "name": "stdout",
     "output_type": "stream",
     "text": [
      "Lin Guosheng\n"
     ]
    },
    {
     "name": "stderr",
     "output_type": "stream",
     "text": [
      "\r",
      "  1%|█                                                                                  | 1/82 [00:00<00:53,  1.52it/s]"
     ]
    },
    {
     "name": "stdout",
     "output_type": "stream",
     "text": [
      "Yu Han\n"
     ]
    },
    {
     "name": "stderr",
     "output_type": "stream",
     "text": [
      "\r",
      "  2%|██                                                                                 | 2/82 [00:03<02:29,  1.87s/it]"
     ]
    },
    {
     "name": "stdout",
     "output_type": "stream",
     "text": [
      "Liu Weichen\n"
     ]
    },
    {
     "name": "stderr",
     "output_type": "stream",
     "text": [
      "\r",
      "  4%|███                                                                                | 3/82 [00:06<03:21,  2.56s/it]"
     ]
    },
    {
     "name": "stdout",
     "output_type": "stream",
     "text": [
      "Lam Siew Kei\n"
     ]
    },
    {
     "name": "stderr",
     "output_type": "stream",
     "text": [
      "\r",
      "  5%|████                                                                               | 4/82 [00:08<02:51,  2.20s/it]"
     ]
    },
    {
     "name": "stdout",
     "output_type": "stream",
     "text": [
      "Loke Yuan Ren\n"
     ]
    },
    {
     "name": "stderr",
     "output_type": "stream",
     "text": [
      "\r",
      "  6%|█████                                                                              | 5/82 [00:11<03:15,  2.53s/it]"
     ]
    },
    {
     "name": "stdout",
     "output_type": "stream",
     "text": [
      "Lam Kwok Yan\n"
     ]
    },
    {
     "name": "stderr",
     "output_type": "stream",
     "text": [
      "\r",
      "  7%|██████                                                                             | 6/82 [00:13<02:49,  2.24s/it]"
     ]
    },
    {
     "name": "stdout",
     "output_type": "stream",
     "text": [
      "Guan Cuntai\n"
     ]
    },
    {
     "name": "stderr",
     "output_type": "stream",
     "text": [
      "\r",
      "  9%|███████                                                                            | 7/82 [00:14<02:33,  2.04s/it]"
     ]
    },
    {
     "name": "stdout",
     "output_type": "stream",
     "text": [
      "Anwitaman Datta\n"
     ]
    },
    {
     "name": "stderr",
     "output_type": "stream",
     "text": [
      "\r",
      " 10%|████████                                                                           | 8/82 [00:16<02:21,  1.92s/it]"
     ]
    },
    {
     "name": "stdout",
     "output_type": "stream",
     "text": [
      "Lin Weisi\n"
     ]
    },
    {
     "name": "stderr",
     "output_type": "stream",
     "text": [
      "\r",
      " 11%|█████████                                                                          | 9/82 [00:18<02:13,  1.84s/it]"
     ]
    },
    {
     "name": "stdout",
     "output_type": "stream",
     "text": [
      "Liu Ziwei\n"
     ]
    },
    {
     "name": "stderr",
     "output_type": "stream",
     "text": [
      "\r",
      " 12%|██████████                                                                        | 10/82 [00:19<02:07,  1.77s/it]"
     ]
    },
    {
     "name": "stdout",
     "output_type": "stream",
     "text": [
      "Chee Wei Tan\n"
     ]
    },
    {
     "name": "stderr",
     "output_type": "stream",
     "text": [
      "\r",
      " 13%|███████████                                                                       | 11/82 [00:20<01:38,  1.39s/it]"
     ]
    },
    {
     "name": "stdout",
     "output_type": "stream",
     "text": [
      "Fan Xiuyi\n"
     ]
    },
    {
     "name": "stderr",
     "output_type": "stream",
     "text": [
      "\r",
      " 15%|████████████                                                                      | 12/82 [00:21<01:43,  1.47s/it]"
     ]
    },
    {
     "name": "stdout",
     "output_type": "stream",
     "text": [
      "Anupam Chattopadhyay\n"
     ]
    },
    {
     "name": "stderr",
     "output_type": "stream",
     "text": [
      "\r",
      " 16%|█████████████                                                                     | 13/82 [00:23<01:45,  1.53s/it]"
     ]
    },
    {
     "name": "stdout",
     "output_type": "stream",
     "text": [
      "Zhao Jun\n"
     ]
    },
    {
     "name": "stderr",
     "output_type": "stream",
     "text": [
      "\r",
      " 17%|██████████████                                                                    | 14/82 [00:26<02:20,  2.06s/it]"
     ]
    },
    {
     "name": "stdout",
     "output_type": "stream",
     "text": [
      "Quek Hiok Chai\n"
     ]
    },
    {
     "name": "stderr",
     "output_type": "stream",
     "text": [
      "\r",
      " 18%|███████████████                                                                   | 15/82 [00:30<02:43,  2.43s/it]"
     ]
    },
    {
     "name": "stdout",
     "output_type": "stream",
     "text": [
      "Sun Aixin\n"
     ]
    },
    {
     "name": "stderr",
     "output_type": "stream",
     "text": [
      "\r",
      " 20%|████████████████                                                                  | 16/82 [00:31<02:25,  2.20s/it]"
     ]
    },
    {
     "name": "stdout",
     "output_type": "stream",
     "text": [
      "A S Madhukumar\n"
     ]
    },
    {
     "name": "stderr",
     "output_type": "stream",
     "text": [
      "\r",
      " 21%|█████████████████                                                                 | 17/82 [00:33<02:12,  2.03s/it]"
     ]
    },
    {
     "name": "stdout",
     "output_type": "stream",
     "text": [
      "Deepu Rajan\n"
     ]
    },
    {
     "name": "stderr",
     "output_type": "stream",
     "text": [
      "\r",
      " 22%|██████████████████                                                                | 18/82 [00:35<02:02,  1.92s/it]"
     ]
    },
    {
     "name": "stdout",
     "output_type": "stream",
     "text": [
      "Zheng Jianmin\n"
     ]
    },
    {
     "name": "stderr",
     "output_type": "stream",
     "text": [
      "\r",
      " 23%|███████████████████                                                               | 19/82 [00:37<02:06,  2.01s/it]"
     ]
    },
    {
     "name": "stdout",
     "output_type": "stream",
     "text": [
      "Lin ShangWei\n"
     ]
    },
    {
     "name": "stderr",
     "output_type": "stream",
     "text": [
      "\r",
      " 24%|████████████████████                                                              | 20/82 [00:37<01:35,  1.53s/it]"
     ]
    },
    {
     "name": "stdout",
     "output_type": "stream",
     "text": [
      "Wentong Cai\n"
     ]
    },
    {
     "name": "stderr",
     "output_type": "stream",
     "text": [
      "\r",
      " 26%|█████████████████████                                                             | 21/82 [00:40<01:46,  1.75s/it]"
     ]
    },
    {
     "name": "stdout",
     "output_type": "stream",
     "text": [
      "Li Yi\n"
     ]
    },
    {
     "name": "stderr",
     "output_type": "stream",
     "text": [
      "\r",
      " 27%|██████████████████████                                                            | 22/82 [00:42<01:54,  1.90s/it]"
     ]
    },
    {
     "name": "stdout",
     "output_type": "stream",
     "text": [
      "Chen Change Loy\n"
     ]
    },
    {
     "name": "stderr",
     "output_type": "stream",
     "text": [
      "\r",
      " 28%|███████████████████████                                                           | 23/82 [00:43<01:47,  1.83s/it]"
     ]
    },
    {
     "name": "stdout",
     "output_type": "stream",
     "text": [
      "Cham Tat Jen\n"
     ]
    },
    {
     "name": "stderr",
     "output_type": "stream",
     "text": [
      "\r",
      " 29%|████████████████████████                                                          | 24/82 [00:45<01:42,  1.77s/it]"
     ]
    },
    {
     "name": "stdout",
     "output_type": "stream",
     "text": [
      "Kwoh Chee Keong\n"
     ]
    },
    {
     "name": "stderr",
     "output_type": "stream",
     "text": [
      "\r",
      " 30%|█████████████████████████                                                         | 25/82 [00:47<01:38,  1.74s/it]"
     ]
    },
    {
     "name": "stdout",
     "output_type": "stream",
     "text": [
      "Smitha K G\n"
     ]
    },
    {
     "name": "stderr",
     "output_type": "stream",
     "text": [
      "\r",
      " 32%|██████████████████████████                                                        | 26/82 [00:50<01:59,  2.13s/it]"
     ]
    },
    {
     "name": "stdout",
     "output_type": "stream",
     "text": [
      "Tan Rui\n"
     ]
    },
    {
     "name": "stderr",
     "output_type": "stream",
     "text": [
      "\r",
      " 33%|███████████████████████████                                                       | 27/82 [00:51<01:49,  1.98s/it]"
     ]
    },
    {
     "name": "stdout",
     "output_type": "stream",
     "text": [
      "Cong Gao\n"
     ]
    },
    {
     "name": "stderr",
     "output_type": "stream",
     "text": [
      "\r",
      " 34%|████████████████████████████                                                      | 28/82 [00:55<02:16,  2.53s/it]"
     ]
    },
    {
     "name": "stdout",
     "output_type": "stream",
     "text": [
      "Seah Hock Soon\n"
     ]
    },
    {
     "name": "stderr",
     "output_type": "stream",
     "text": [
      "\r",
      " 35%|█████████████████████████████                                                     | 29/82 [00:57<02:08,  2.42s/it]"
     ]
    },
    {
     "name": "stdout",
     "output_type": "stream",
     "text": [
      "Luo Jun\n"
     ]
    },
    {
     "name": "stderr",
     "output_type": "stream",
     "text": [
      "\r",
      " 37%|██████████████████████████████                                                    | 30/82 [00:59<01:55,  2.22s/it]"
     ]
    },
    {
     "name": "stdout",
     "output_type": "stream",
     "text": [
      "Shen Zhiqi\n"
     ]
    },
    {
     "name": "stderr",
     "output_type": "stream",
     "text": [
      "\r",
      " 38%|███████████████████████████████                                                   | 31/82 [01:01<01:44,  2.05s/it]"
     ]
    },
    {
     "name": "stdout",
     "output_type": "stream",
     "text": [
      "He Ying\n"
     ]
    },
    {
     "name": "stderr",
     "output_type": "stream",
     "text": [
      "\r",
      " 39%|████████████████████████████████                                                  | 32/82 [01:03<01:42,  2.04s/it]"
     ]
    },
    {
     "name": "stdout",
     "output_type": "stream",
     "text": [
      "Sourav Saha Bhowmick\n"
     ]
    },
    {
     "name": "stderr",
     "output_type": "stream",
     "text": [
      "\r",
      " 40%|█████████████████████████████████                                                 | 33/82 [01:09<02:33,  3.14s/it]"
     ]
    },
    {
     "name": "stdout",
     "output_type": "stream",
     "text": [
      "Alexei Sourin\n"
     ]
    },
    {
     "name": "stderr",
     "output_type": "stream",
     "text": [
      "\r",
      " 41%|██████████████████████████████████                                                | 34/82 [01:10<02:09,  2.69s/it]"
     ]
    },
    {
     "name": "stdout",
     "output_type": "stream",
     "text": [
      "Miao Chun Yan\n"
     ]
    },
    {
     "name": "stderr",
     "output_type": "stream",
     "text": [
      "\r",
      " 43%|███████████████████████████████████                                               | 35/82 [01:12<01:51,  2.38s/it]"
     ]
    },
    {
     "name": "stdout",
     "output_type": "stream",
     "text": [
      "Yeo Chai Kiat\n"
     ]
    },
    {
     "name": "stderr",
     "output_type": "stream",
     "text": [
      "\r",
      " 44%|████████████████████████████████████                                              | 36/82 [01:13<01:39,  2.15s/it]"
     ]
    },
    {
     "name": "stdout",
     "output_type": "stream",
     "text": [
      "Chng Eng Siong\n"
     ]
    },
    {
     "name": "stderr",
     "output_type": "stream",
     "text": [
      "\r",
      " 45%|█████████████████████████████████████                                             | 37/82 [01:15<01:29,  2.00s/it]"
     ]
    },
    {
     "name": "stdout",
     "output_type": "stream",
     "text": [
      "Douglas Leslie Maskell\n"
     ]
    },
    {
     "name": "stderr",
     "output_type": "stream",
     "text": [
      "\r",
      " 46%|██████████████████████████████████████                                            | 38/82 [01:18<01:45,  2.40s/it]"
     ]
    },
    {
     "name": "stdout",
     "output_type": "stream",
     "text": [
      "Lin Feng\n"
     ]
    },
    {
     "name": "stderr",
     "output_type": "stream",
     "text": [
      "\r",
      " 48%|███████████████████████████████████████                                           | 39/82 [01:21<01:45,  2.46s/it]"
     ]
    },
    {
     "name": "stdout",
     "output_type": "stream",
     "text": [
      "Huang Shell Ying\n"
     ]
    },
    {
     "name": "stderr",
     "output_type": "stream",
     "text": [
      "\r",
      " 49%|████████████████████████████████████████                                          | 40/82 [01:23<01:33,  2.22s/it]"
     ]
    },
    {
     "name": "stdout",
     "output_type": "stream",
     "text": [
      "Arvind Easwaran\n"
     ]
    },
    {
     "name": "stderr",
     "output_type": "stream",
     "text": [
      "\r",
      " 50%|█████████████████████████████████████████                                         | 41/82 [01:24<01:23,  2.05s/it]"
     ]
    },
    {
     "name": "stdout",
     "output_type": "stream",
     "text": [
      "Chan Syin\n"
     ]
    },
    {
     "name": "stderr",
     "output_type": "stream",
     "text": [
      "\r",
      " 51%|██████████████████████████████████████████                                        | 42/82 [01:30<02:05,  3.13s/it]"
     ]
    },
    {
     "name": "stdout",
     "output_type": "stream",
     "text": [
      "Zhang Hanwang\n"
     ]
    },
    {
     "name": "stderr",
     "output_type": "stream",
     "text": [
      "\r",
      " 52%|███████████████████████████████████████████                                       | 43/82 [01:32<01:51,  2.86s/it]"
     ]
    },
    {
     "name": "stdout",
     "output_type": "stream",
     "text": [
      "Ong Yew Soon\n"
     ]
    },
    {
     "name": "stderr",
     "output_type": "stream",
     "text": [
      "\r",
      " 54%|████████████████████████████████████████████                                      | 44/82 [01:34<01:34,  2.50s/it]"
     ]
    },
    {
     "name": "stdout",
     "output_type": "stream",
     "text": [
      "Li Fang\n"
     ]
    },
    {
     "name": "stderr",
     "output_type": "stream",
     "text": [
      "\r",
      " 55%|█████████████████████████████████████████████                                     | 45/82 [01:35<01:14,  2.01s/it]"
     ]
    },
    {
     "name": "stdout",
     "output_type": "stream",
     "text": [
      "Tay Kian Boon\n"
     ]
    },
    {
     "name": "stderr",
     "output_type": "stream",
     "text": [
      "\r",
      " 56%|██████████████████████████████████████████████                                    | 46/82 [01:38<01:26,  2.39s/it]"
     ]
    },
    {
     "name": "stdout",
     "output_type": "stream",
     "text": [
      "Vanessa Evers\n"
     ]
    },
    {
     "name": "stderr",
     "output_type": "stream",
     "text": [
      "\r",
      " 57%|██████████████████████████████████████████████▉                                   | 47/82 [01:42<01:41,  2.89s/it]"
     ]
    },
    {
     "name": "stdout",
     "output_type": "stream",
     "text": [
      "Zhang Tianwei\n"
     ]
    },
    {
     "name": "stderr",
     "output_type": "stream",
     "text": [
      "\r",
      " 59%|████████████████████████████████████████████████                                  | 48/82 [01:44<01:25,  2.53s/it]"
     ]
    },
    {
     "name": "stdout",
     "output_type": "stream",
     "text": [
      "Li Mo\n"
     ]
    },
    {
     "name": "stderr",
     "output_type": "stream",
     "text": [
      "\r",
      " 60%|█████████████████████████████████████████████████                                 | 49/82 [01:46<01:16,  2.33s/it]"
     ]
    },
    {
     "name": "stdout",
     "output_type": "stream",
     "text": [
      "Ke Yiping Kelly\n"
     ]
    },
    {
     "name": "stderr",
     "output_type": "stream",
     "text": [
      "\r",
      " 61%|██████████████████████████████████████████████████                                | 50/82 [01:50<01:31,  2.85s/it]"
     ]
    },
    {
     "name": "stdout",
     "output_type": "stream",
     "text": [
      "Zhang Jie\n"
     ]
    },
    {
     "name": "stderr",
     "output_type": "stream",
     "text": [
      "\r",
      " 62%|███████████████████████████████████████████████████                               | 51/82 [01:52<01:22,  2.66s/it]"
     ]
    },
    {
     "name": "stdout",
     "output_type": "stream",
     "text": [
      "Wen Yonggang\n"
     ]
    },
    {
     "name": "stderr",
     "output_type": "stream",
     "text": [
      "\r",
      " 63%|████████████████████████████████████████████████████                              | 52/82 [01:54<01:16,  2.55s/it]"
     ]
    },
    {
     "name": "stdout",
     "output_type": "stream",
     "text": [
      "Chia Liang Tien\n"
     ]
    },
    {
     "name": "stderr",
     "output_type": "stream",
     "text": [
      "\r",
      " 65%|█████████████████████████████████████████████████████                             | 53/82 [01:56<01:06,  2.28s/it]"
     ]
    },
    {
     "name": "stdout",
     "output_type": "stream",
     "text": [
      "Dusit Niyato\n"
     ]
    },
    {
     "name": "stderr",
     "output_type": "stream",
     "text": [
      "\r",
      " 66%|██████████████████████████████████████████████████████                            | 54/82 [01:58<00:58,  2.09s/it]"
     ]
    },
    {
     "name": "stdout",
     "output_type": "stream",
     "text": [
      "Lau Chiew Tong\n"
     ]
    },
    {
     "name": "stderr",
     "output_type": "stream",
     "text": [
      "\r",
      " 67%|███████████████████████████████████████████████████████                           | 55/82 [02:01<01:06,  2.45s/it]"
     ]
    },
    {
     "name": "stdout",
     "output_type": "stream",
     "text": [
      "Goh Wooi Boon\n"
     ]
    },
    {
     "name": "stderr",
     "output_type": "stream",
     "text": [
      "\r",
      " 68%|████████████████████████████████████████████████████████                          | 56/82 [02:02<00:57,  2.21s/it]"
     ]
    },
    {
     "name": "stdout",
     "output_type": "stream",
     "text": [
      "Hui Siu Cheung\n"
     ]
    },
    {
     "name": "stderr",
     "output_type": "stream",
     "text": [
      "\r",
      " 70%|████████████████████████████████████████████████████████▉                         | 57/82 [02:04<00:51,  2.04s/it]"
     ]
    },
    {
     "name": "stdout",
     "output_type": "stream",
     "text": [
      "Thambipillai Srikanthan\n"
     ]
    },
    {
     "name": "stderr",
     "output_type": "stream",
     "text": [
      "\r",
      " 71%|██████████████████████████████████████████████████████████                        | 58/82 [02:07<00:58,  2.42s/it]"
     ]
    },
    {
     "name": "stdout",
     "output_type": "stream",
     "text": [
      "Wee Keong NG\n"
     ]
    },
    {
     "name": "stderr",
     "output_type": "stream",
     "text": [
      "\r",
      " 72%|███████████████████████████████████████████████████████████                       | 59/82 [02:12<01:10,  3.05s/it]"
     ]
    },
    {
     "name": "stdout",
     "output_type": "stream",
     "text": [
      "Jagath Chandana Rajapakse\n"
     ]
    },
    {
     "name": "stderr",
     "output_type": "stream",
     "text": [
      "\r",
      " 73%|████████████████████████████████████████████████████████████                      | 60/82 [02:15<01:08,  3.12s/it]"
     ]
    },
    {
     "name": "stdout",
     "output_type": "stream",
     "text": [
      "Bo An\n"
     ]
    },
    {
     "name": "stderr",
     "output_type": "stream",
     "text": [
      "\r",
      " 74%|█████████████████████████████████████████████████████████████                     | 61/82 [02:16<00:50,  2.40s/it]"
     ]
    },
    {
     "name": "stdout",
     "output_type": "stream",
     "text": [
      "Pan Sinno Jialin\n"
     ]
    },
    {
     "name": "stderr",
     "output_type": "stream",
     "text": [
      "\r",
      " 76%|██████████████████████████████████████████████████████████████                    | 62/82 [02:18<00:43,  2.18s/it]"
     ]
    },
    {
     "name": "stdout",
     "output_type": "stream",
     "text": [
      "Mohamed M Sabry\n"
     ]
    },
    {
     "name": "stderr",
     "output_type": "stream",
     "text": [
      "\r",
      " 77%|███████████████████████████████████████████████████████████████                   | 63/82 [02:21<00:46,  2.46s/it]"
     ]
    },
    {
     "name": "stdout",
     "output_type": "stream",
     "text": [
      "Joty Shafiq Rayhan\n"
     ]
    },
    {
     "name": "stderr",
     "output_type": "stream",
     "text": [
      "\r",
      " 78%|████████████████████████████████████████████████████████████████                  | 64/82 [02:24<00:50,  2.78s/it]"
     ]
    },
    {
     "name": "stdout",
     "output_type": "stream",
     "text": [
      "Lu Shijian\n"
     ]
    },
    {
     "name": "stderr",
     "output_type": "stream",
     "text": [
      "\r",
      " 79%|█████████████████████████████████████████████████████████████████                 | 65/82 [02:26<00:42,  2.49s/it]"
     ]
    },
    {
     "name": "stdout",
     "output_type": "stream",
     "text": [
      "Oh Hong Lye\n"
     ]
    },
    {
     "name": "stderr",
     "output_type": "stream",
     "text": [
      "\r",
      " 80%|██████████████████████████████████████████████████████████████████                | 66/82 [02:28<00:35,  2.24s/it]"
     ]
    },
    {
     "name": "stdout",
     "output_type": "stream",
     "text": [
      "Owen Noel Newton Fernando\n"
     ]
    },
    {
     "name": "stderr",
     "output_type": "stream",
     "text": [
      "\r",
      " 82%|███████████████████████████████████████████████████████████████████               | 67/82 [02:29<00:30,  2.06s/it]"
     ]
    },
    {
     "name": "stdout",
     "output_type": "stream",
     "text": [
      "Lana Obraztsova\n"
     ]
    },
    {
     "name": "stderr",
     "output_type": "stream",
     "text": [
      "\r",
      " 83%|████████████████████████████████████████████████████████████████████              | 68/82 [02:32<00:29,  2.09s/it]"
     ]
    },
    {
     "name": "stdout",
     "output_type": "stream",
     "text": [
      "Zinovi Rabinovich\n"
     ]
    },
    {
     "name": "stderr",
     "output_type": "stream",
     "text": [
      "\r",
      " 84%|█████████████████████████████████████████████████████████████████████             | 69/82 [02:33<00:25,  1.96s/it]"
     ]
    },
    {
     "name": "stdout",
     "output_type": "stream",
     "text": [
      "Luke Ong \n"
     ]
    },
    {
     "name": "stderr",
     "output_type": "stream",
     "text": [
      "\r",
      " 85%|██████████████████████████████████████████████████████████████████████            | 70/82 [02:37<00:28,  2.40s/it]"
     ]
    },
    {
     "name": "stdout",
     "output_type": "stream",
     "text": [
      "Vidya Sudarshan\n"
     ]
    },
    {
     "name": "stderr",
     "output_type": "stream",
     "text": [
      "\r",
      " 87%|███████████████████████████████████████████████████████████████████████           | 71/82 [02:38<00:23,  2.18s/it]"
     ]
    },
    {
     "name": "stdout",
     "output_type": "stream",
     "text": [
      "Luu Anh Tuan\n"
     ]
    },
    {
     "name": "stderr",
     "output_type": "stream",
     "text": [
      "\r",
      " 88%|████████████████████████████████████████████████████████████████████████          | 72/82 [02:39<00:17,  1.72s/it]"
     ]
    },
    {
     "name": "stdout",
     "output_type": "stream",
     "text": [
      "Li Boyang\n"
     ]
    },
    {
     "name": "stderr",
     "output_type": "stream",
     "text": [
      "\r",
      " 89%|█████████████████████████████████████████████████████████████████████████         | 73/82 [02:40<00:12,  1.43s/it]"
     ]
    },
    {
     "name": "stdout",
     "output_type": "stream",
     "text": [
      "Qian Kemao\n"
     ]
    },
    {
     "name": "stderr",
     "output_type": "stream",
     "text": [
      "\r",
      " 90%|██████████████████████████████████████████████████████████████████████████        | 74/82 [02:41<00:11,  1.49s/it]"
     ]
    },
    {
     "name": "stdout",
     "output_type": "stream",
     "text": [
      "Vun Chan Hua Nicholas\n"
     ]
    },
    {
     "name": "stderr",
     "output_type": "stream",
     "text": [
      "\r",
      " 91%|███████████████████████████████████████████████████████████████████████████       | 75/82 [02:45<00:15,  2.18s/it]"
     ]
    },
    {
     "name": "stdout",
     "output_type": "stream",
     "text": [
      "Lee Bu Sung\n"
     ]
    },
    {
     "name": "stderr",
     "output_type": "stream",
     "text": [
      "\r",
      " 93%|████████████████████████████████████████████████████████████████████████████      | 76/82 [02:48<00:13,  2.33s/it]"
     ]
    },
    {
     "name": "stdout",
     "output_type": "stream",
     "text": [
      "Wai Kin Adams Kong\n"
     ]
    },
    {
     "name": "stderr",
     "output_type": "stream",
     "text": [
      "\r",
      " 94%|█████████████████████████████████████████████████████████████████████████████     | 77/82 [02:52<00:13,  2.77s/it]"
     ]
    },
    {
     "name": "stdout",
     "output_type": "stream",
     "text": [
      "Long Cheng\n"
     ]
    },
    {
     "name": "stderr",
     "output_type": "stream",
     "text": [
      "\r",
      " 95%|██████████████████████████████████████████████████████████████████████████████    | 78/82 [02:55<00:12,  3.10s/it]"
     ]
    },
    {
     "name": "stdout",
     "output_type": "stream",
     "text": [
      "Luo Siqiang \n"
     ]
    },
    {
     "name": "stderr",
     "output_type": "stream",
     "text": [
      "\r",
      " 96%|███████████████████████████████████████████████████████████████████████████████   | 79/82 [02:57<00:07,  2.67s/it]"
     ]
    },
    {
     "name": "stdout",
     "output_type": "stream",
     "text": [
      "Tang Xueyan\n"
     ]
    },
    {
     "name": "stderr",
     "output_type": "stream",
     "text": [
      "\r",
      " 98%|████████████████████████████████████████████████████████████████████████████████  | 80/82 [03:03<00:07,  3.73s/it]"
     ]
    },
    {
     "name": "stdout",
     "output_type": "stream",
     "text": [
      "Erik Cambria\n"
     ]
    },
    {
     "name": "stderr",
     "output_type": "stream",
     "text": [
      "\r",
      " 99%|█████████████████████████████████████████████████████████████████████████████████ | 81/82 [03:05<00:03,  3.10s/it]"
     ]
    },
    {
     "name": "stdout",
     "output_type": "stream",
     "text": [
      "Liu Yang\n"
     ]
    },
    {
     "name": "stderr",
     "output_type": "stream",
     "text": [
      "100%|██████████████████████████████████████████████████████████████████████████████████| 82/82 [03:08<00:00,  2.30s/it]\n"
     ]
    }
   ],
   "source": [
    "import re\n",
    "citations = []\n",
    "for name in tqdm(names):\n",
    "    name = re.sub(r'[^a-zA-Z ]', '', name)\n",
    "    print(name)\n",
    "    c = get_citations(name)\n",
    "    citations.append(c)"
   ]
  },
  {
   "cell_type": "code",
   "execution_count": 43,
   "id": "77654c1c",
   "metadata": {},
   "outputs": [],
   "source": [
    "def clean_citations(string):\n",
    "    if string is None or string == \"\":\n",
    "        return pd.NA\n",
    "    return int(string.split()[-1])"
   ]
  },
  {
   "cell_type": "code",
   "execution_count": 44,
   "id": "0cb78082",
   "metadata": {},
   "outputs": [
    {
     "name": "stderr",
     "output_type": "stream",
     "text": [
      "C:\\Users\\tanch\\AppData\\Local\\Temp\\ipykernel_10728\\2880711355.py:1: SettingWithCopyWarning: \n",
      "A value is trying to be set on a copy of a slice from a DataFrame.\n",
      "Try using .loc[row_indexer,col_indexer] = value instead\n",
      "\n",
      "See the caveats in the documentation: https://pandas.pydata.org/pandas-docs/stable/user_guide/indexing.html#returning-a-view-versus-a-copy\n",
      "  scse['num_citations'] = list(map(clean_citations, citations))\n"
     ]
    }
   ],
   "source": [
    "scse['num_citations'] = list(map(clean_citations, citations))"
   ]
  },
  {
   "cell_type": "code",
   "execution_count": null,
   "id": "f0dced49",
   "metadata": {},
   "outputs": [],
   "source": []
  },
  {
   "cell_type": "code",
   "execution_count": null,
   "id": "43f3eae4",
   "metadata": {},
   "outputs": [],
   "source": []
  },
  {
   "cell_type": "markdown",
   "id": "a3dbbab8",
   "metadata": {},
   "source": [
    "## output\n",
    "- sort by emails"
   ]
  },
  {
   "cell_type": "code",
   "execution_count": 51,
   "id": "622ed2af",
   "metadata": {
    "scrolled": true
   },
   "outputs": [
    {
     "data": {
      "text/html": [
       "<div>\n",
       "<style scoped>\n",
       "    .dataframe tbody tr th:only-of-type {\n",
       "        vertical-align: middle;\n",
       "    }\n",
       "\n",
       "    .dataframe tbody tr th {\n",
       "        vertical-align: top;\n",
       "    }\n",
       "\n",
       "    .dataframe thead th {\n",
       "        text-align: right;\n",
       "    }\n",
       "</style>\n",
       "<table border=\"1\" class=\"dataframe\">\n",
       "  <thead>\n",
       "    <tr style=\"text-align: right;\">\n",
       "      <th></th>\n",
       "      <th>full_name</th>\n",
       "      <th>email</th>\n",
       "      <th>dr_ntu_url</th>\n",
       "      <th>personal_site</th>\n",
       "      <th>dblp_links</th>\n",
       "      <th>num_citations</th>\n",
       "    </tr>\n",
       "  </thead>\n",
       "  <tbody>\n",
       "    <tr>\n",
       "      <th>1342</th>\n",
       "      <td>Wai Kin Adams Kong</td>\n",
       "      <td>adamskong@ntu.edu.sg</td>\n",
       "      <td>https://dr.ntu.edu.sg/cris/rp/rp00834</td>\n",
       "      <td>&lt;NA&gt;</td>\n",
       "      <td>https://dblp.org/pid/16/3792</td>\n",
       "      <td>&lt;NA&gt;</td>\n",
       "    </tr>\n",
       "    <tr>\n",
       "      <th>1240</th>\n",
       "      <td>Luu Anh Tuan</td>\n",
       "      <td>anhtuan.luu@ntu.edu.sg</td>\n",
       "      <td>https://dr.ntu.edu.sg/cris/rp/rp01296</td>\n",
       "      <td>https://tuanluu.github.io/</td>\n",
       "      <td>https://dblp.org/pid/81/8329</td>\n",
       "      <td>2936</td>\n",
       "    </tr>\n",
       "    <tr>\n",
       "      <th>217</th>\n",
       "      <td>Anupam Chattopadhyay</td>\n",
       "      <td>anupam@ntu.edu.sg</td>\n",
       "      <td>https://dr.ntu.edu.sg/cris/rp/rp01076</td>\n",
       "      <td>https://scholar.google.co.in/citations?user=TI...</td>\n",
       "      <td>https://dblp.org/pid/99/4535</td>\n",
       "      <td>4875</td>\n",
       "    </tr>\n",
       "    <tr>\n",
       "      <th>76</th>\n",
       "      <td>Anwitaman Datta</td>\n",
       "      <td>anwitaman@ntu.edu.sg</td>\n",
       "      <td>https://dr.ntu.edu.sg/cris/rp/rp00706</td>\n",
       "      <td>https://personal.ntu.edu.sg/anwitaman/</td>\n",
       "      <td>https://dblp.org/pid/d/AnwitamanDatta</td>\n",
       "      <td>7669</td>\n",
       "    </tr>\n",
       "    <tr>\n",
       "      <th>754</th>\n",
       "      <td>Arvind Easwaran</td>\n",
       "      <td>arvinde@ntu.edu.sg</td>\n",
       "      <td>https://dr.ntu.edu.sg/cris/rp/rp00687</td>\n",
       "      <td>https://cps-research-group.github.io/</td>\n",
       "      <td>https://dblp.org/pid/73/1708</td>\n",
       "      <td>2506</td>\n",
       "    </tr>\n",
       "    <tr>\n",
       "      <th>...</th>\n",
       "      <td>...</td>\n",
       "      <td>...</td>\n",
       "      <td>...</td>\n",
       "      <td>...</td>\n",
       "      <td>...</td>\n",
       "      <td>...</td>\n",
       "    </tr>\n",
       "    <tr>\n",
       "      <th>46</th>\n",
       "      <td>Loke Yuan Ren</td>\n",
       "      <td>yrloke@ntu.edu.sg</td>\n",
       "      <td>https://dr.ntu.edu.sg/cris/rp/rp00585</td>\n",
       "      <td>https://personal.ntu.edu.sg/yrloke/</td>\n",
       "      <td>https://dblp.org/pid/11/9550</td>\n",
       "      <td>13</td>\n",
       "    </tr>\n",
       "    <tr>\n",
       "      <th>857</th>\n",
       "      <td>Zhang Jie</td>\n",
       "      <td>zhangj@ntu.edu.sg</td>\n",
       "      <td>https://dr.ntu.edu.sg/cris/rp/rp00759</td>\n",
       "      <td>https://personal.ntu.edu.sg/zhangj/</td>\n",
       "      <td>https://dblp.org/pid/84/6889-2</td>\n",
       "      <td>10287</td>\n",
       "    </tr>\n",
       "    <tr>\n",
       "      <th>1225</th>\n",
       "      <td>Zinovi Rabinovich</td>\n",
       "      <td>zinovi@ntu.edu.sg</td>\n",
       "      <td>https://dr.ntu.edu.sg/cris/rp/rp00214</td>\n",
       "      <td>zinovi.net</td>\n",
       "      <td>https://dblp.org/pid/93/4009</td>\n",
       "      <td>941</td>\n",
       "    </tr>\n",
       "    <tr>\n",
       "      <th>119</th>\n",
       "      <td>Liu Ziwei</td>\n",
       "      <td>ziwei.liu@ntu.edu.sg</td>\n",
       "      <td>https://dr.ntu.edu.sg/cris/rp/rp00203</td>\n",
       "      <td>https://liuziwei7.github.io/</td>\n",
       "      <td>https://dblp.org/pid/05/6300-2</td>\n",
       "      <td>18681</td>\n",
       "    </tr>\n",
       "    <tr>\n",
       "      <th>632</th>\n",
       "      <td>Shen Zhiqi</td>\n",
       "      <td>zqshen@ntu.edu.sg</td>\n",
       "      <td>https://dr.ntu.edu.sg/cris/rp/rp00227</td>\n",
       "      <td>https://personal.ntu.edu.sg/zqshen</td>\n",
       "      <td>https://dblp.org/pid/03/1554-1</td>\n",
       "      <td>5560</td>\n",
       "    </tr>\n",
       "  </tbody>\n",
       "</table>\n",
       "<p>82 rows × 6 columns</p>\n",
       "</div>"
      ],
      "text/plain": [
       "                 full_name                   email  \\\n",
       "1342    Wai Kin Adams Kong    adamskong@ntu.edu.sg   \n",
       "1240          Luu Anh Tuan  anhtuan.luu@ntu.edu.sg   \n",
       "217   Anupam Chattopadhyay       anupam@ntu.edu.sg   \n",
       "76         Anwitaman Datta    anwitaman@ntu.edu.sg   \n",
       "754        Arvind Easwaran      arvinde@ntu.edu.sg   \n",
       "...                    ...                     ...   \n",
       "46           Loke Yuan Ren       yrloke@ntu.edu.sg   \n",
       "857              Zhang Jie       zhangj@ntu.edu.sg   \n",
       "1225     Zinovi Rabinovich       zinovi@ntu.edu.sg   \n",
       "119              Liu Ziwei    ziwei.liu@ntu.edu.sg   \n",
       "632             Shen Zhiqi       zqshen@ntu.edu.sg   \n",
       "\n",
       "                                 dr_ntu_url  \\\n",
       "1342  https://dr.ntu.edu.sg/cris/rp/rp00834   \n",
       "1240  https://dr.ntu.edu.sg/cris/rp/rp01296   \n",
       "217   https://dr.ntu.edu.sg/cris/rp/rp01076   \n",
       "76    https://dr.ntu.edu.sg/cris/rp/rp00706   \n",
       "754   https://dr.ntu.edu.sg/cris/rp/rp00687   \n",
       "...                                     ...   \n",
       "46    https://dr.ntu.edu.sg/cris/rp/rp00585   \n",
       "857   https://dr.ntu.edu.sg/cris/rp/rp00759   \n",
       "1225  https://dr.ntu.edu.sg/cris/rp/rp00214   \n",
       "119   https://dr.ntu.edu.sg/cris/rp/rp00203   \n",
       "632   https://dr.ntu.edu.sg/cris/rp/rp00227   \n",
       "\n",
       "                                          personal_site  \\\n",
       "1342                                               <NA>   \n",
       "1240                         https://tuanluu.github.io/   \n",
       "217   https://scholar.google.co.in/citations?user=TI...   \n",
       "76               https://personal.ntu.edu.sg/anwitaman/   \n",
       "754               https://cps-research-group.github.io/   \n",
       "...                                                 ...   \n",
       "46                  https://personal.ntu.edu.sg/yrloke/   \n",
       "857                 https://personal.ntu.edu.sg/zhangj/   \n",
       "1225                                         zinovi.net   \n",
       "119                        https://liuziwei7.github.io/   \n",
       "632                  https://personal.ntu.edu.sg/zqshen   \n",
       "\n",
       "                                 dblp_links num_citations  \n",
       "1342           https://dblp.org/pid/16/3792          <NA>  \n",
       "1240           https://dblp.org/pid/81/8329          2936  \n",
       "217            https://dblp.org/pid/99/4535          4875  \n",
       "76    https://dblp.org/pid/d/AnwitamanDatta          7669  \n",
       "754            https://dblp.org/pid/73/1708          2506  \n",
       "...                                     ...           ...  \n",
       "46             https://dblp.org/pid/11/9550            13  \n",
       "857          https://dblp.org/pid/84/6889-2         10287  \n",
       "1225           https://dblp.org/pid/93/4009           941  \n",
       "119          https://dblp.org/pid/05/6300-2         18681  \n",
       "632          https://dblp.org/pid/03/1554-1          5560  \n",
       "\n",
       "[82 rows x 6 columns]"
      ]
     },
     "execution_count": 51,
     "metadata": {},
     "output_type": "execute_result"
    }
   ],
   "source": [
    "cols = [\"full_name\",\"email\",\"dr_ntu_url\",\"personal_site\", \"dblp_links\", \"num_citations\"]\n",
    "path = r\"C:\\Users\\tanch\\Documents\\NTU\\NTU Year 4\\Semester 1\\CZ4125 - Developing Data Products\\Assignments\\Individual Assignment\\solution.csv\"\n",
    "scse = scse.sort_values(\"email\")\n",
    "scse[cols]"
   ]
  },
  {
   "cell_type": "code",
   "execution_count": 53,
   "id": "b9d8da20",
   "metadata": {},
   "outputs": [],
   "source": [
    "scse[cols].to_csv(path, index = False)"
   ]
  },
  {
   "cell_type": "code",
   "execution_count": null,
   "id": "6c95a861",
   "metadata": {},
   "outputs": [],
   "source": []
  },
  {
   "cell_type": "markdown",
   "id": "21abbe05",
   "metadata": {},
   "source": [
    "## Other attempts:\n",
    "- attempts at crawling dblp url and citations had very fast executions but debugging is slower and eventually there were site restrictions so BeautfulSoup was used instead"
   ]
  },
  {
   "cell_type": "code",
   "execution_count": null,
   "id": "84da8bb7",
   "metadata": {},
   "outputs": [],
   "source": [
    "import scrapy\n",
    "import pickle\n",
    "import time\n",
    "\n",
    "    \n",
    "\n",
    "class CrawlDblpResearchersSpider(scrapy.Spider):\n",
    "    name = 'crawl_dblp_researchers'\n",
    "    allowed_domains = ['dblp.org']\n",
    "    start_urls = [\"https://scholar.google.com/schhp?hl=en\"]\n",
    "    \n",
    "    # path to raw researcher names \n",
    "    path = r\"C:\\Users\\tanch\\Documents\\NTU\\NTU Year 4\\Semester 1\\CZ4125 - Developing Data Products\\Assignments\\Individual Assignment\\Part 1\\researchers_names.pkl\"\n",
    "    \n",
    "    \n",
    "    def parse(self, response):\n",
    "        # for each researcher name make a request\n",
    "        names = self.get_researcher_names(CrawlDblpResearchersSpider.path)\n",
    "        for name in names:\n",
    "            link = self.get_dblp_link(name)\n",
    "            meta = {\n",
    "                \"full_name\":name,\n",
    "                \"link\":link\n",
    "            }\n",
    "            print(meta[\"link\"])\n",
    "            yield response.follow(link, callback = self.parse_dblp, meta = meta)\n",
    "            time.sleep(0.5)\n",
    "            \n",
    "    def parse_dblp(self, response):\n",
    "        output = {\n",
    "            \"full_name\":response.meta[\"full_name\"],\n",
    "            \"link\":response.meta[\"link\"]\n",
    "        }\n",
    "        authors = response.css(\"div[id=completesearch-authors] ul.result-list\")\n",
    "        if len(authors)==1:\n",
    "            dblp_link = authors.css(\"a::attr(href)\").get()\n",
    "            output[\"dblp_link\"] = dblp_link\n",
    "            output[\"multiple_results\"] = False\n",
    "            yield output\n",
    "        else:\n",
    "            for author in authors:\n",
    "                description = \" \".join(author.css(\"small::text\").getall())\n",
    "                if \"Nanyang Technological University\" in description:\n",
    "                    dblp_link = author.css(\"a::attr(href)\").get()\n",
    "                    output[\"dblp_link\"] = dblp_link\n",
    "                    output[\"multiple_results\"] = True\n",
    "                    yield output\n",
    "       \n",
    "    def get_researcher_names(self, path):\n",
    "        with open(path, \"rb\") as f:\n",
    "            names = pickle.load(f)   \n",
    "        return names\n",
    "    def get_dblp_link(self, name):\n",
    "        return \"https://dblp.org/search?q=\"+\"%20\".join(name.strip().split())\n",
    "\n"
   ]
  },
  {
   "cell_type": "code",
   "execution_count": null,
   "id": "c3a8bfdf",
   "metadata": {},
   "outputs": [],
   "source": [
    "import scrapy\n",
    "import pickle\n",
    "\n",
    "\n",
    "class CrawlResearcherCitationsSpider(scrapy.Spider):\n",
    "    name = 'crawl_researcher_citations'\n",
    "    allowed_domains = ['scholar.google.com']\n",
    "    start_urls = ['http://scholar.google.com/']\n",
    "\n",
    "    # path to raw researcher names \n",
    "    path = r\"C:\\Users\\tanch\\Documents\\NTU\\NTU Year 4\\Semester 1\\CZ4125 - Developing Data Products\\Assignments\\Individual Assignment\\Part 1\\researchers_names.pkl\"\n",
    "    \n",
    "    def parse(self, response):\n",
    "        # for each researcher name make a request\n",
    "        names = self.get_researcher_names(CrawlResearcherCitationsSpider.path)\n",
    "        for name in names:\n",
    "            link = self.get_google_scholar_link(name, additional_keywords = [\"ntu\"])\n",
    "            meta = {\n",
    "                \"full_name\":name,\n",
    "                \"link\":link\n",
    "            }\n",
    "            \n",
    "            yield response.follow(link, callback = self.parse_google_scholar, meta = meta)\n",
    "    \n",
    "    # \n",
    "    def parse_google_scholar(self, response):\n",
    "        output = {\n",
    "            \"full_name\":response.meta[\"full_name\"],\n",
    "            \"link\":response.meta[\"link\"]\n",
    "        }\n",
    "        users = response.css(\"div[class=gsc_1usr]\")\n",
    "       \n",
    "        for user in users:\n",
    "            verified_at = user.css(\"div.gs_ai_eml span::text\").get()\n",
    "            organization = user.css(\"div.gs_ai_aff *::text\").get()\n",
    "            if verified_at==\"ntu\" or \"Nanyang Technological University\" in organization or \"Singapore\" in organization or \"NTU\" in organization:\n",
    "                cited_by = user.css(\"div.gs_ai_cby::text\").get()\n",
    "                output[\"organization\"] = organization\n",
    "                output[\"verified_at\"] = verified_at\n",
    "                output[\"cited_by\"] = cited_by\n",
    "                yield output\n",
    "                \n",
    "                \n",
    "                \n",
    "    def get_researcher_names(self, path):\n",
    "        with open(path, \"rb\") as f:\n",
    "            names = pickle.load(f)   \n",
    "        return names\n",
    "    # add an addition \"ntu\" for greater accuracy\n",
    "    def get_google_scholar_link(self, name, additional_keywords = []):\n",
    "        keywords = name.strip().split()+additional_keywords \n",
    "        return \"https://scholar.google.com/citations?hl=en&view_op=search_authors&mauthors=\"+\"+\".join(keywords)\n",
    "\n"
   ]
  }
 ],
 "metadata": {
  "kernelspec": {
   "display_name": "dp",
   "language": "python",
   "name": "dp"
  },
  "language_info": {
   "codemirror_mode": {
    "name": "ipython",
    "version": 3
   },
   "file_extension": ".py",
   "mimetype": "text/x-python",
   "name": "python",
   "nbconvert_exporter": "python",
   "pygments_lexer": "ipython3",
   "version": "3.9.12"
  }
 },
 "nbformat": 4,
 "nbformat_minor": 5
}
